{
 "cells": [
  {
   "cell_type": "markdown",
   "id": "f78c5bd8",
   "metadata": {},
   "source": [
    "# 2. Photometric redshift of galaxies\n",
    "\n",
    "---\n",
    "\n",
    "Let $f(\\theta)$ be the fitting function. We define the redshift error, $E(\\theta)$ like:\n",
    "\n",
    "\\begin{align}\n",
    "    E(\\theta) = \\text{median} \\left( \\left| \\frac{z_\\text{spec} - f(\\theta)}{1 + z_\\text{spec}} \\right| \\right)\n",
    "\\end{align}\n",
    "\n",
    "Our objective is to obtain $E(\\theta) < 0.01$."
   ]
  },
  {
   "cell_type": "code",
   "execution_count": 1,
   "id": "15ef57c1",
   "metadata": {
    "ExecuteTime": {
     "end_time": "2023-03-17T18:41:16.121473Z",
     "start_time": "2023-03-17T18:41:14.941725Z"
    }
   },
   "outputs": [],
   "source": [
    "import numpy as np\n",
    "import matplotlib.pyplot as plt\n",
    "import seaborn as sns\n",
    "import pandas as pd\n",
    "from astropy.table import Table\n",
    "from sklearn.linear_model import Ridge, Lasso, LinearRegression\n",
    "from sklearn.ensemble import RandomForestRegressor\n",
    "from sklearn.model_selection import train_test_split, cross_val_score, GridSearchCV\n",
    "from sklearn.metrics import mean_squared_error, make_scorer\n",
    "import xgboost as xgb\n",
    "\n",
    "sns.set(style=\"darkgrid\")"
   ]
  },
  {
   "cell_type": "markdown",
   "id": "9248c6c0",
   "metadata": {},
   "source": [
    "### Load the tables\n",
    "\n",
    "Table A is the dataset where the algorithm will be trained, whereas table B is the dataset for the validation of the method. The algorithm never sees Table B."
   ]
  },
  {
   "cell_type": "code",
   "execution_count": 2,
   "id": "14efb0a0",
   "metadata": {
    "ExecuteTime": {
     "end_time": "2023-03-17T18:41:17.390186Z",
     "start_time": "2023-03-17T18:41:17.314832Z"
    }
   },
   "outputs": [
    {
     "data": {
      "text/html": [
       "<div>\n",
       "<style scoped>\n",
       "    .dataframe tbody tr th:only-of-type {\n",
       "        vertical-align: middle;\n",
       "    }\n",
       "\n",
       "    .dataframe tbody tr th {\n",
       "        vertical-align: top;\n",
       "    }\n",
       "\n",
       "    .dataframe thead th {\n",
       "        text-align: right;\n",
       "    }\n",
       "</style>\n",
       "<table border=\"1\" class=\"dataframe\">\n",
       "  <thead>\n",
       "    <tr style=\"text-align: right;\">\n",
       "      <th></th>\n",
       "      <th>mag_r</th>\n",
       "      <th>u-g</th>\n",
       "      <th>g-r</th>\n",
       "      <th>r-i</th>\n",
       "      <th>i-z</th>\n",
       "      <th>z_spec</th>\n",
       "    </tr>\n",
       "  </thead>\n",
       "  <tbody>\n",
       "    <tr>\n",
       "      <th>0</th>\n",
       "      <td>18.914286</td>\n",
       "      <td>2.072901</td>\n",
       "      <td>1.386738</td>\n",
       "      <td>0.482288</td>\n",
       "      <td>0.272480</td>\n",
       "      <td>0.309728</td>\n",
       "    </tr>\n",
       "    <tr>\n",
       "      <th>1</th>\n",
       "      <td>19.394960</td>\n",
       "      <td>1.544794</td>\n",
       "      <td>1.557312</td>\n",
       "      <td>0.541681</td>\n",
       "      <td>0.418470</td>\n",
       "      <td>0.336479</td>\n",
       "    </tr>\n",
       "    <tr>\n",
       "      <th>2</th>\n",
       "      <td>19.886253</td>\n",
       "      <td>1.028398</td>\n",
       "      <td>1.764324</td>\n",
       "      <td>0.672249</td>\n",
       "      <td>0.374681</td>\n",
       "      <td>0.406500</td>\n",
       "    </tr>\n",
       "    <tr>\n",
       "      <th>3</th>\n",
       "      <td>17.561859</td>\n",
       "      <td>2.166397</td>\n",
       "      <td>1.304127</td>\n",
       "      <td>0.428728</td>\n",
       "      <td>0.303825</td>\n",
       "      <td>0.192485</td>\n",
       "    </tr>\n",
       "    <tr>\n",
       "      <th>4</th>\n",
       "      <td>18.495819</td>\n",
       "      <td>1.359457</td>\n",
       "      <td>1.720991</td>\n",
       "      <td>0.521324</td>\n",
       "      <td>0.360054</td>\n",
       "      <td>0.319904</td>\n",
       "    </tr>\n",
       "    <tr>\n",
       "      <th>...</th>\n",
       "      <td>...</td>\n",
       "      <td>...</td>\n",
       "      <td>...</td>\n",
       "      <td>...</td>\n",
       "      <td>...</td>\n",
       "      <td>...</td>\n",
       "    </tr>\n",
       "    <tr>\n",
       "      <th>74304</th>\n",
       "      <td>17.905106</td>\n",
       "      <td>1.300573</td>\n",
       "      <td>1.518801</td>\n",
       "      <td>0.522589</td>\n",
       "      <td>0.404392</td>\n",
       "      <td>0.261464</td>\n",
       "    </tr>\n",
       "    <tr>\n",
       "      <th>74305</th>\n",
       "      <td>17.588964</td>\n",
       "      <td>1.442886</td>\n",
       "      <td>1.408772</td>\n",
       "      <td>0.542276</td>\n",
       "      <td>0.394083</td>\n",
       "      <td>0.223003</td>\n",
       "    </tr>\n",
       "    <tr>\n",
       "      <th>74306</th>\n",
       "      <td>20.376284</td>\n",
       "      <td>1.748831</td>\n",
       "      <td>1.362972</td>\n",
       "      <td>0.759176</td>\n",
       "      <td>0.427336</td>\n",
       "      <td>0.478527</td>\n",
       "    </tr>\n",
       "    <tr>\n",
       "      <th>74307</th>\n",
       "      <td>18.126299</td>\n",
       "      <td>1.480217</td>\n",
       "      <td>1.483189</td>\n",
       "      <td>0.573711</td>\n",
       "      <td>0.359980</td>\n",
       "      <td>0.274434</td>\n",
       "    </tr>\n",
       "    <tr>\n",
       "      <th>74308</th>\n",
       "      <td>17.547979</td>\n",
       "      <td>1.530851</td>\n",
       "      <td>1.520582</td>\n",
       "      <td>0.570051</td>\n",
       "      <td>0.382092</td>\n",
       "      <td>0.296219</td>\n",
       "    </tr>\n",
       "  </tbody>\n",
       "</table>\n",
       "<p>74309 rows × 6 columns</p>\n",
       "</div>"
      ],
      "text/plain": [
       "           mag_r       u-g       g-r       r-i       i-z    z_spec\n",
       "0      18.914286  2.072901  1.386738  0.482288  0.272480  0.309728\n",
       "1      19.394960  1.544794  1.557312  0.541681  0.418470  0.336479\n",
       "2      19.886253  1.028398  1.764324  0.672249  0.374681  0.406500\n",
       "3      17.561859  2.166397  1.304127  0.428728  0.303825  0.192485\n",
       "4      18.495819  1.359457  1.720991  0.521324  0.360054  0.319904\n",
       "...          ...       ...       ...       ...       ...       ...\n",
       "74304  17.905106  1.300573  1.518801  0.522589  0.404392  0.261464\n",
       "74305  17.588964  1.442886  1.408772  0.542276  0.394083  0.223003\n",
       "74306  20.376284  1.748831  1.362972  0.759176  0.427336  0.478527\n",
       "74307  18.126299  1.480217  1.483189  0.573711  0.359980  0.274434\n",
       "74308  17.547979  1.530851  1.520582  0.570051  0.382092  0.296219\n",
       "\n",
       "[74309 rows x 6 columns]"
      ]
     },
     "metadata": {},
     "output_type": "display_data"
    },
    {
     "data": {
      "text/html": [
       "<div>\n",
       "<style scoped>\n",
       "    .dataframe tbody tr th:only-of-type {\n",
       "        vertical-align: middle;\n",
       "    }\n",
       "\n",
       "    .dataframe tbody tr th {\n",
       "        vertical-align: top;\n",
       "    }\n",
       "\n",
       "    .dataframe thead th {\n",
       "        text-align: right;\n",
       "    }\n",
       "</style>\n",
       "<table border=\"1\" class=\"dataframe\">\n",
       "  <thead>\n",
       "    <tr style=\"text-align: right;\">\n",
       "      <th></th>\n",
       "      <th>mag_r</th>\n",
       "      <th>u-g</th>\n",
       "      <th>g-r</th>\n",
       "      <th>r-i</th>\n",
       "      <th>i-z</th>\n",
       "      <th>z_spec</th>\n",
       "    </tr>\n",
       "  </thead>\n",
       "  <tbody>\n",
       "    <tr>\n",
       "      <th>0</th>\n",
       "      <td>19.469849</td>\n",
       "      <td>1.528381</td>\n",
       "      <td>1.486521</td>\n",
       "      <td>0.539600</td>\n",
       "      <td>0.272343</td>\n",
       "      <td>0.293778</td>\n",
       "    </tr>\n",
       "    <tr>\n",
       "      <th>1</th>\n",
       "      <td>17.302969</td>\n",
       "      <td>2.128372</td>\n",
       "      <td>1.311499</td>\n",
       "      <td>0.482414</td>\n",
       "      <td>0.283367</td>\n",
       "      <td>0.201277</td>\n",
       "    </tr>\n",
       "    <tr>\n",
       "      <th>2</th>\n",
       "      <td>19.764093</td>\n",
       "      <td>2.184450</td>\n",
       "      <td>1.694365</td>\n",
       "      <td>0.621489</td>\n",
       "      <td>0.233627</td>\n",
       "      <td>0.393756</td>\n",
       "    </tr>\n",
       "    <tr>\n",
       "      <th>3</th>\n",
       "      <td>18.485493</td>\n",
       "      <td>1.707390</td>\n",
       "      <td>1.394760</td>\n",
       "      <td>0.463596</td>\n",
       "      <td>0.263309</td>\n",
       "      <td>0.248585</td>\n",
       "    </tr>\n",
       "    <tr>\n",
       "      <th>4</th>\n",
       "      <td>17.514053</td>\n",
       "      <td>1.668873</td>\n",
       "      <td>1.414905</td>\n",
       "      <td>0.486395</td>\n",
       "      <td>0.327213</td>\n",
       "      <td>0.246883</td>\n",
       "    </tr>\n",
       "    <tr>\n",
       "      <th>...</th>\n",
       "      <td>...</td>\n",
       "      <td>...</td>\n",
       "      <td>...</td>\n",
       "      <td>...</td>\n",
       "      <td>...</td>\n",
       "      <td>...</td>\n",
       "    </tr>\n",
       "    <tr>\n",
       "      <th>74552</th>\n",
       "      <td>19.249470</td>\n",
       "      <td>2.150196</td>\n",
       "      <td>1.741672</td>\n",
       "      <td>0.667749</td>\n",
       "      <td>0.391930</td>\n",
       "      <td>0.334896</td>\n",
       "    </tr>\n",
       "    <tr>\n",
       "      <th>74553</th>\n",
       "      <td>17.284691</td>\n",
       "      <td>2.181351</td>\n",
       "      <td>1.248009</td>\n",
       "      <td>0.470192</td>\n",
       "      <td>0.372684</td>\n",
       "      <td>0.188253</td>\n",
       "    </tr>\n",
       "    <tr>\n",
       "      <th>74554</th>\n",
       "      <td>18.674818</td>\n",
       "      <td>1.275618</td>\n",
       "      <td>1.606810</td>\n",
       "      <td>0.570326</td>\n",
       "      <td>0.312952</td>\n",
       "      <td>0.308946</td>\n",
       "    </tr>\n",
       "    <tr>\n",
       "      <th>74555</th>\n",
       "      <td>17.787334</td>\n",
       "      <td>2.003248</td>\n",
       "      <td>1.369568</td>\n",
       "      <td>0.521305</td>\n",
       "      <td>0.349138</td>\n",
       "      <td>0.228876</td>\n",
       "    </tr>\n",
       "    <tr>\n",
       "      <th>74556</th>\n",
       "      <td>17.980137</td>\n",
       "      <td>1.866217</td>\n",
       "      <td>1.503367</td>\n",
       "      <td>0.626223</td>\n",
       "      <td>0.435123</td>\n",
       "      <td>0.291777</td>\n",
       "    </tr>\n",
       "  </tbody>\n",
       "</table>\n",
       "<p>74557 rows × 6 columns</p>\n",
       "</div>"
      ],
      "text/plain": [
       "           mag_r       u-g       g-r       r-i       i-z    z_spec\n",
       "0      19.469849  1.528381  1.486521  0.539600  0.272343  0.293778\n",
       "1      17.302969  2.128372  1.311499  0.482414  0.283367  0.201277\n",
       "2      19.764093  2.184450  1.694365  0.621489  0.233627  0.393756\n",
       "3      18.485493  1.707390  1.394760  0.463596  0.263309  0.248585\n",
       "4      17.514053  1.668873  1.414905  0.486395  0.327213  0.246883\n",
       "...          ...       ...       ...       ...       ...       ...\n",
       "74552  19.249470  2.150196  1.741672  0.667749  0.391930  0.334896\n",
       "74553  17.284691  2.181351  1.248009  0.470192  0.372684  0.188253\n",
       "74554  18.674818  1.275618  1.606810  0.570326  0.312952  0.308946\n",
       "74555  17.787334  2.003248  1.369568  0.521305  0.349138  0.228876\n",
       "74556  17.980137  1.866217  1.503367  0.626223  0.435123  0.291777\n",
       "\n",
       "[74557 rows x 6 columns]"
      ]
     },
     "metadata": {},
     "output_type": "display_data"
    }
   ],
   "source": [
    "tA = pd.read_csv('../Datafiles/PhotoZFileA.csv')\n",
    "tB = pd.read_csv('../Datafiles/PhotoZFileB.csv')\n",
    "\n",
    "display(tA)\n",
    "display(tB)"
   ]
  },
  {
   "cell_type": "code",
   "execution_count": 3,
   "id": "bd954896",
   "metadata": {
    "ExecuteTime": {
     "end_time": "2023-03-17T18:41:19.496915Z",
     "start_time": "2023-03-17T18:41:19.488600Z"
    }
   },
   "outputs": [],
   "source": [
    "X = tA[['mag_r', 'u-g', 'g-r', 'r-i', 'i-z']]\n",
    "y = tA['z_spec']\n",
    "\n",
    "X_val = tB[['mag_r', 'u-g', 'g-r', 'r-i', 'i-z']]\n",
    "y_val = tB['z_spec']"
   ]
  },
  {
   "cell_type": "code",
   "execution_count": 4,
   "id": "1dffd4b8",
   "metadata": {
    "ExecuteTime": {
     "end_time": "2023-03-17T18:41:20.589122Z",
     "start_time": "2023-03-17T18:41:20.581107Z"
    }
   },
   "outputs": [
    {
     "data": {
      "text/html": [
       "<div>\n",
       "<style scoped>\n",
       "    .dataframe tbody tr th:only-of-type {\n",
       "        vertical-align: middle;\n",
       "    }\n",
       "\n",
       "    .dataframe tbody tr th {\n",
       "        vertical-align: top;\n",
       "    }\n",
       "\n",
       "    .dataframe thead th {\n",
       "        text-align: right;\n",
       "    }\n",
       "</style>\n",
       "<table border=\"1\" class=\"dataframe\">\n",
       "  <thead>\n",
       "    <tr style=\"text-align: right;\">\n",
       "      <th></th>\n",
       "      <th>Method</th>\n",
       "      <th>Mean Score</th>\n",
       "      <th>Std Score</th>\n",
       "      <th>tA Score</th>\n",
       "      <th>tB Score</th>\n",
       "    </tr>\n",
       "  </thead>\n",
       "  <tbody>\n",
       "    <tr>\n",
       "      <th>0</th>\n",
       "      <td>Linear Regression</td>\n",
       "      <td>NaN</td>\n",
       "      <td>NaN</td>\n",
       "      <td>NaN</td>\n",
       "      <td>NaN</td>\n",
       "    </tr>\n",
       "    <tr>\n",
       "      <th>1</th>\n",
       "      <td>Ridge Regression</td>\n",
       "      <td>NaN</td>\n",
       "      <td>NaN</td>\n",
       "      <td>NaN</td>\n",
       "      <td>NaN</td>\n",
       "    </tr>\n",
       "    <tr>\n",
       "      <th>2</th>\n",
       "      <td>LASSO Regression</td>\n",
       "      <td>NaN</td>\n",
       "      <td>NaN</td>\n",
       "      <td>NaN</td>\n",
       "      <td>NaN</td>\n",
       "    </tr>\n",
       "  </tbody>\n",
       "</table>\n",
       "</div>"
      ],
      "text/plain": [
       "              Method Mean Score Std Score tA Score tB Score\n",
       "0  Linear Regression        NaN       NaN      NaN      NaN\n",
       "1   Ridge Regression        NaN       NaN      NaN      NaN\n",
       "2   LASSO Regression        NaN       NaN      NaN      NaN"
      ]
     },
     "execution_count": 4,
     "metadata": {},
     "output_type": "execute_result"
    }
   ],
   "source": [
    "table_results = pd.DataFrame(columns=['Method', 'Mean Score', 'Std Score', 'tA Score', 'tB Score'])\n",
    "table_results['Method'] = ['Linear Regression', 'Ridge Regression', 'LASSO Regression']\n",
    "table_results"
   ]
  },
  {
   "cell_type": "code",
   "execution_count": 5,
   "id": "69179d18",
   "metadata": {
    "ExecuteTime": {
     "end_time": "2023-03-17T18:41:21.246982Z",
     "start_time": "2023-03-17T18:41:21.244386Z"
    }
   },
   "outputs": [],
   "source": [
    "## Define the function that we want to optimize\n",
    "def error(y_true, y_pred):\n",
    "    return np.median(abs((y_true - y_pred)/(1 + y_true)))\n",
    "\n",
    "def neg_error(y_true, y_pred):\n",
    "    return -error(y_true, y_pred)\n",
    "\n",
    "custom_scorer = make_scorer(neg_error)"
   ]
  },
  {
   "cell_type": "markdown",
   "id": "e60a52e4",
   "metadata": {},
   "source": [
    "### Linear regression"
   ]
  },
  {
   "cell_type": "code",
   "execution_count": 7,
   "id": "89a59ce7",
   "metadata": {
    "ExecuteTime": {
     "end_time": "2023-03-17T19:38:44.669136Z",
     "start_time": "2023-03-17T19:38:44.507824Z"
    }
   },
   "outputs": [
    {
     "name": "stdout",
     "output_type": "stream",
     "text": [
      "Mean Score: 0.01456\n",
      "Std Score: 0.00041\n",
      "\n",
      "Intercept: -0.78343\n",
      "Coefficients: [ 0.03980657 -0.01269732  0.08332845  0.41577275  0.02118495]\n",
      "\n",
      "Error on tA: 0.01456 \n",
      "Error on tB: 0.01460 \n"
     ]
    }
   ],
   "source": [
    "## Linear regression\n",
    "model = LinearRegression(fit_intercept=True)\n",
    "cv_scores = cross_val_score(model, X, y, cv=10, scoring=custom_scorer)\n",
    "\n",
    "table_results.at[table_results['Method'] == 'Linear Regression' , 'Mean Score'] = -cv_scores.mean()\n",
    "table_results.at[table_results['Method'] == 'Linear Regression' , 'Std Score'] = cv_scores.std()\n",
    "print(\"Mean Score: %.5f\" % -cv_scores.mean())\n",
    "print(\"Std Score: %.5f\" % cv_scores.std())\n",
    "\n",
    "model.fit(X, y)\n",
    "b = model.intercept_\n",
    "w = model.coef_\n",
    "\n",
    "print('\\nIntercept: %.5f'  % b)\n",
    "print('Coefficients:', w)\n",
    "\n",
    "y_pred = model.predict(X).T\n",
    "Error = error(y, y_pred)\n",
    "table_results.at[table_results['Method'] == 'Linear Regression' , 'tA Score'] = Error\n",
    "print('\\nError on tA: %.5f ' % Error)\n",
    "\n",
    "y_pred = model.predict(X_val).T\n",
    "Error = error(y_val, y_pred)\n",
    "print('Error on tB: %.5f ' % Error)\n",
    "table_results.at[table_results['Method'] == 'Linear Regression' , 'tB Score'] = Error"
   ]
  },
  {
   "cell_type": "code",
   "execution_count": 8,
   "id": "20162938",
   "metadata": {
    "ExecuteTime": {
     "end_time": "2023-03-17T19:38:47.662861Z",
     "start_time": "2023-03-17T19:38:47.389658Z"
    }
   },
   "outputs": [
    {
     "data": {
      "image/png": "[encoded data removed]",
      "text/plain": [
       "<Figure size 432x288 with 1 Axes>"
      ]
     },
     "metadata": {
      "needs_background": "light"
     },
     "output_type": "display_data"
    }
   ],
   "source": [
    "plt.hist(abs((y_val - y_pred)/(1 + y_val)), bins=100)\n",
    "plt.xlim(0, 0.1)\n",
    "plt.show()"
   ]
  },
  {
   "cell_type": "code",
   "execution_count": 15,
   "id": "e3bd19a0",
   "metadata": {
    "ExecuteTime": {
     "end_time": "2023-03-17T19:41:13.207040Z",
     "start_time": "2023-03-17T19:41:12.929328Z"
    }
   },
   "outputs": [
    {
     "data": {
      "image/png": "[encoded data removed]",
      "text/plain": [
       "<Figure size 432x288 with 1 Axes>"
      ]
     },
     "metadata": {
      "needs_background": "light"
     },
     "output_type": "display_data"
    }
   ],
   "source": [
    "plt.hist(y_val[abs((y_val - y_pred)/(1 + y_val)) < 0.01], density=True, alpha=0.5, bins=100)\n",
    "plt.hist(y_val[abs((y_val - y_pred)/(1 + y_val)) > 0.01], density=True, alpha=0.5, bins=100)\n",
    "plt.xlim(0.1, 0.5)\n",
    "plt.show()"
   ]
  },
  {
   "cell_type": "code",
   "execution_count": 23,
   "id": "77826629",
   "metadata": {
    "ExecuteTime": {
     "end_time": "2023-03-17T19:42:56.118040Z",
     "start_time": "2023-03-17T19:42:56.114056Z"
    }
   },
   "outputs": [
    {
     "data": {
      "text/plain": [
       "array([17.302969, 19.764093, 18.485493, ..., 18.674818, 17.787334,\n",
       "       17.980137])"
      ]
     },
     "execution_count": 23,
     "metadata": {},
     "output_type": "execute_result"
    }
   ],
   "source": [
    "tB['mag_r'].values[abs((y_val - y_pred)/(1 + y_val)) < 0.01]"
   ]
  },
  {
   "cell_type": "code",
   "execution_count": 26,
   "id": "0f17e061",
   "metadata": {
    "ExecuteTime": {
     "end_time": "2023-03-17T19:44:01.956751Z",
     "start_time": "2023-03-17T19:44:01.687025Z"
    }
   },
   "outputs": [
    {
     "data": {
      "image/png": "[encoded data removed]",
      "text/plain": [
       "<Figure size 432x288 with 1 Axes>"
      ]
     },
     "metadata": {
      "needs_background": "light"
     },
     "output_type": "display_data"
    }
   ],
   "source": [
    "plt.hist(tB['r-i'].values[abs((y_val - y_pred)/(1 + y_val)) < 0.01], density=True, alpha=0.5, bins=100)\n",
    "plt.hist(tB['r-i'].values[abs((y_val - y_pred)/(1 + y_val)) > 0.01], density=True, alpha=0.5, bins=100)\n",
    "#plt.xlim(0.1, 0.5)\n",
    "plt.show()"
   ]
  },
  {
   "cell_type": "markdown",
   "id": "613e697d",
   "metadata": {},
   "source": [
    "### Ridge regression"
   ]
  },
  {
   "cell_type": "code",
   "execution_count": 14,
   "id": "0dc5cdc5",
   "metadata": {
    "ExecuteTime": {
     "end_time": "2023-03-17T17:55:57.404405Z",
     "start_time": "2023-03-17T17:55:44.419601Z"
    }
   },
   "outputs": [
    {
     "name": "stdout",
     "output_type": "stream",
     "text": [
      "Best parameters: {'alpha': 0.01}\n",
      "Best score: 0.01456\n",
      "\n",
      "Mean Score: 0.01456\n",
      "Std Score: 0.00041\n",
      "\n",
      "Intercept: -0.78345\n",
      "Coefficients: [ 0.03980817 -0.01269742  0.08332889  0.41575223  0.02118818]\n",
      "\n",
      "Error on tA: 0.01456 \n",
      "Error on tB: 0.01460 \n"
     ]
    }
   ],
   "source": [
    "## Ridge regression\n",
    "param_grid = {\n",
    "    'alpha': [10.0**i for i in np.arange(-2, 10, 0.1)]\n",
    "}\n",
    "\n",
    "model = Ridge(fit_intercept=True)\n",
    "grid_search = GridSearchCV(estimator=model, param_grid=param_grid, cv=10, scoring=custom_scorer)\n",
    "grid_search.fit(X, y)\n",
    "\n",
    "print(\"Best parameters:\", grid_search.best_params_)\n",
    "print(\"Best score: %.5f\" % (-1 * grid_search.best_score_))\n",
    "\n",
    "model = Ridge(fit_intercept=True, **grid_search.best_params_)\n",
    "cv_scores = cross_val_score(model, X, y, cv=10, scoring=custom_scorer)\n",
    "\n",
    "table_results.at[table_results['Method'] == 'Ridge Regression' , 'Mean Score'] = -cv_scores.mean()\n",
    "table_results.at[table_results['Method'] == 'Ridge Regression' , 'Std Score'] = cv_scores.std()\n",
    "print(\"\\nMean Score: %.5f\" % -cv_scores.mean())\n",
    "print(\"Std Score: %.5f\" % cv_scores.std())\n",
    "\n",
    "model.fit(X, y)\n",
    "b = model.intercept_\n",
    "w = model.coef_\n",
    "\n",
    "print('\\nIntercept: %.5f'  % b)\n",
    "print('Coefficients:', w)\n",
    "\n",
    "y_pred = model.predict(X).T\n",
    "Error = error(y, y_pred)\n",
    "table_results.at[table_results['Method'] == 'Ridge Regression' , 'tA Score'] = Error\n",
    "print('\\nError on tA: %.5f ' % Error)\n",
    "\n",
    "y_pred = model.predict(X_val).T\n",
    "Error = error(y_val, y_pred)\n",
    "print('Error on tB: %.5f ' % Error)\n",
    "table_results.at[table_results['Method'] == 'Ridge Regression' , 'tB Score'] = Error"
   ]
  },
  {
   "cell_type": "code",
   "execution_count": 15,
   "id": "bc34c562",
   "metadata": {
    "ExecuteTime": {
     "end_time": "2023-03-17T17:56:03.484144Z",
     "start_time": "2023-03-17T17:56:03.205477Z"
    }
   },
   "outputs": [
    {
     "data": {
      "image/png": "[encoded data removed]",
      "text/plain": [
       "<Figure size 432x360 with 1 Axes>"
      ]
     },
     "metadata": {
      "needs_background": "light"
     },
     "output_type": "display_data"
    }
   ],
   "source": [
    "plt.figure(figsize=(5*1.2, 5))\n",
    "plt.scatter([grid_search.cv_results_['params'][i]['alpha'] for i in range(len(grid_search.cv_results_['params']))], \n",
    "            -grid_search.cv_results_['mean_test_score'], s=5)\n",
    "plt.scatter(grid_search.best_params_['alpha'], -grid_search.best_score_, c='r', marker='x', s=200)\n",
    "plt.xscale('log')\n",
    "plt.grid(True)\n",
    "plt.xlabel('$\\\\alpha$', fontsize=16)\n",
    "plt.ylabel('$E(\\\\theta)$', fontsize=16)\n",
    "plt.show()"
   ]
  },
  {
   "cell_type": "markdown",
   "id": "8707c318",
   "metadata": {},
   "source": [
    "### LASSO regression"
   ]
  },
  {
   "cell_type": "code",
   "execution_count": 19,
   "id": "a3d0305d",
   "metadata": {
    "ExecuteTime": {
     "end_time": "2023-03-17T17:57:21.888487Z",
     "start_time": "2023-03-17T17:56:57.269542Z"
    }
   },
   "outputs": [
    {
     "name": "stdout",
     "output_type": "stream",
     "text": [
      "Best parameters: {'alpha': 1.584893192461111e-08}\n",
      "Best score: 0.01456\n",
      "\n",
      "Mean Score: 0.01456\n",
      "Std Score: 0.00041\n",
      "\n",
      "Intercept: -0.78344\n",
      "Coefficients: [ 0.0398071  -0.01269723  0.08332837  0.41576788  0.02118007]\n",
      "\n",
      "Error on tA: 0.01456 \n",
      "Error on tB: 0.01460 \n"
     ]
    }
   ],
   "source": [
    "## LASSO regression\n",
    "param_grid = {\n",
    "    'alpha': [10.0**i for i in np.arange(-8, 4, 0.1)]\n",
    "}\n",
    "\n",
    "model = Lasso(fit_intercept=True)\n",
    "grid_search = GridSearchCV(estimator=model, param_grid=param_grid, cv=10, scoring=custom_scorer)\n",
    "grid_search.fit(X, y)\n",
    "\n",
    "print(\"Best parameters:\", grid_search.best_params_)\n",
    "print(\"Best score: %.5f\" % (-1 * grid_search.best_score_))\n",
    "\n",
    "model = Lasso(fit_intercept=True, **grid_search.best_params_)\n",
    "cv_scores = cross_val_score(model, X, y, cv=10, scoring=custom_scorer)\n",
    "\n",
    "table_results.at[table_results['Method'] == 'LASSO Regression' , 'Mean Score'] = -cv_scores.mean()\n",
    "table_results.at[table_results['Method'] == 'LASSO Regression' , 'Std Score'] = cv_scores.std()\n",
    "print(\"\\nMean Score: %.5f\" % -cv_scores.mean())\n",
    "print(\"Std Score: %.5f\" % cv_scores.std())\n",
    "\n",
    "model.fit(X, y)\n",
    "b = model.intercept_\n",
    "w = model.coef_\n",
    "\n",
    "print('\\nIntercept: %.5f'  % b)\n",
    "print('Coefficients:', w)\n",
    "\n",
    "y_pred = model.predict(X).T\n",
    "Error = error(y, y_pred)\n",
    "table_results.at[table_results['Method'] == 'LASSO Regression' , 'tA Score'] = Error\n",
    "print('\\nError on tA: %.5f ' % Error)\n",
    "\n",
    "y_pred = model.predict(X_val).T\n",
    "Error = error(y_val, y_pred)\n",
    "print('Error on tB: %.5f ' % Error)\n",
    "table_results.at[table_results['Method'] == 'LASSO Regression' , 'tB Score'] = Error"
   ]
  },
  {
   "cell_type": "code",
   "execution_count": 20,
   "id": "308702f6",
   "metadata": {
    "ExecuteTime": {
     "end_time": "2023-03-17T17:57:24.085565Z",
     "start_time": "2023-03-17T17:57:23.886389Z"
    }
   },
   "outputs": [
    {
     "data": {
      "image/png": "[encoded data removed]",
      "text/plain": [
       "<Figure size 432x360 with 1 Axes>"
      ]
     },
     "metadata": {
      "needs_background": "light"
     },
     "output_type": "display_data"
    }
   ],
   "source": [
    "plt.figure(figsize=(5*1.2, 5))\n",
    "plt.scatter([grid_search.cv_results_['params'][i]['alpha'] for i in range(len(grid_search.cv_results_['params']))], \n",
    "            -grid_search.cv_results_['mean_test_score'], s=5)\n",
    "plt.scatter(grid_search.best_params_['alpha'], -grid_search.best_score_, c='r', marker='x', s=200)\n",
    "plt.xscale('log')\n",
    "plt.grid(True)\n",
    "plt.xlabel('$\\\\alpha$', fontsize=16)\n",
    "plt.ylabel('$E(\\\\theta)$', fontsize=16)\n",
    "plt.show()"
   ]
  },
  {
   "cell_type": "code",
   "execution_count": 21,
   "id": "78a8c852",
   "metadata": {
    "ExecuteTime": {
     "end_time": "2023-03-17T17:57:38.628485Z",
     "start_time": "2023-03-17T17:57:38.619359Z"
    }
   },
   "outputs": [
    {
     "data": {
      "text/html": [
       "<div>\n",
       "<style scoped>\n",
       "    .dataframe tbody tr th:only-of-type {\n",
       "        vertical-align: middle;\n",
       "    }\n",
       "\n",
       "    .dataframe tbody tr th {\n",
       "        vertical-align: top;\n",
       "    }\n",
       "\n",
       "    .dataframe thead th {\n",
       "        text-align: right;\n",
       "    }\n",
       "</style>\n",
       "<table border=\"1\" class=\"dataframe\">\n",
       "  <thead>\n",
       "    <tr style=\"text-align: right;\">\n",
       "      <th></th>\n",
       "      <th>Method</th>\n",
       "      <th>Mean Score</th>\n",
       "      <th>Std Score</th>\n",
       "      <th>tA Score</th>\n",
       "      <th>tB Score</th>\n",
       "    </tr>\n",
       "  </thead>\n",
       "  <tbody>\n",
       "    <tr>\n",
       "      <th>0</th>\n",
       "      <td>Linear Regression</td>\n",
       "      <td>0.014562</td>\n",
       "      <td>0.00041</td>\n",
       "      <td>0.014559</td>\n",
       "      <td>0.014601</td>\n",
       "    </tr>\n",
       "    <tr>\n",
       "      <th>1</th>\n",
       "      <td>Ridge Regression</td>\n",
       "      <td>0.014562</td>\n",
       "      <td>0.00041</td>\n",
       "      <td>0.014559</td>\n",
       "      <td>0.014602</td>\n",
       "    </tr>\n",
       "    <tr>\n",
       "      <th>2</th>\n",
       "      <td>LASSO Regression</td>\n",
       "      <td>0.014562</td>\n",
       "      <td>0.00041</td>\n",
       "      <td>0.014559</td>\n",
       "      <td>0.014601</td>\n",
       "    </tr>\n",
       "  </tbody>\n",
       "</table>\n",
       "</div>"
      ],
      "text/plain": [
       "              Method Mean Score Std Score  tA Score  tB Score\n",
       "0  Linear Regression   0.014562   0.00041  0.014559  0.014601\n",
       "1   Ridge Regression   0.014562   0.00041  0.014559  0.014602\n",
       "2   LASSO Regression   0.014562   0.00041  0.014559  0.014601"
      ]
     },
     "execution_count": 21,
     "metadata": {},
     "output_type": "execute_result"
    }
   ],
   "source": [
    "table_results"
   ]
  },
  {
   "cell_type": "code",
   "execution_count": null,
   "id": "a1a4d53d",
   "metadata": {},
   "outputs": [],
   "source": []
  }
 ],
 "metadata": {
  "kernelspec": {
   "display_name": "Python 3 (ipykernel)",
   "language": "python",
   "name": "python3"
  },
  "language_info": {
   "codemirror_mode": {
    "name": "ipython",
    "version": 3
   },
   "file_extension": ".py",
   "mimetype": "text/x-python",
   "name": "python",
   "nbconvert_exporter": "python",
   "pygments_lexer": "ipython3",
   "version": "3.8.11"
  },
  "varInspector": {
   "cols": {
    "lenName": 16,
    "lenType": 16,
    "lenVar": 40
   },
   "kernels_config": {
    "python": {
     "delete_cmd_postfix": "",
     "delete_cmd_prefix": "del ",
     "library": "var_list.py",
     "varRefreshCmd": "print(var_dic_list())"
    },
    "r": {
     "delete_cmd_postfix": ") ",
     "delete_cmd_prefix": "rm(",
     "library": "var_list.r",
     "varRefreshCmd": "cat(var_dic_list()) "
    }
   },
   "types_to_exclude": [
    "module",
    "function",
    "builtin_function_or_method",
    "instance",
    "_Feature"
   ],
   "window_display": false
  }
 },
 "nbformat": 4,
 "nbformat_minor": 5
}
