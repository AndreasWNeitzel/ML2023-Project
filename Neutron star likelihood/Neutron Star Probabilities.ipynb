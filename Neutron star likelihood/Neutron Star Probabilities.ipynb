{
 "cells": [
  {
   "cell_type": "markdown",
   "id": "21844ad9",
   "metadata": {},
   "source": [
    "### Import all relevant libraries"
   ]
  },
  {
   "cell_type": "code",
   "execution_count": 38,
   "id": "d5688f0b",
   "metadata": {
    "ExecuteTime": {
     "end_time": "2023-03-19T22:39:46.316283Z",
     "start_time": "2023-03-19T22:39:46.256770Z"
    }
   },
   "outputs": [],
   "source": [
    "import numpy as np\n",
    "import matplotlib.pyplot as plt\n",
    "import pandas as pd\n",
    "from astropy.table import Table\n",
    "from scipy.stats import gaussian_kde\n",
    "import seaborn as sns\n",
    "\n",
    "sns.set(style=\"darkgrid\")"
   ]
  },
  {
   "cell_type": "markdown",
   "id": "cd5eb62c",
   "metadata": {},
   "source": [
    "###  Load the data"
   ]
  },
  {
   "cell_type": "code",
   "execution_count": 16,
   "id": "ad8117ec",
   "metadata": {
    "ExecuteTime": {
     "end_time": "2023-03-19T22:12:59.417453Z",
     "start_time": "2023-03-19T22:12:59.387922Z"
    }
   },
   "outputs": [
    {
     "data": {
      "text/html": [
       "<div>\n",
       "<style scoped>\n",
       "    .dataframe tbody tr th:only-of-type {\n",
       "        vertical-align: middle;\n",
       "    }\n",
       "\n",
       "    .dataframe tbody tr th {\n",
       "        vertical-align: top;\n",
       "    }\n",
       "\n",
       "    .dataframe thead th {\n",
       "        text-align: right;\n",
       "    }\n",
       "</style>\n",
       "<table border=\"1\" class=\"dataframe\">\n",
       "  <thead>\n",
       "    <tr style=\"text-align: right;\">\n",
       "      <th></th>\n",
       "      <th>Mass</th>\n",
       "      <th>dMlow</th>\n",
       "      <th>dMhigh</th>\n",
       "      <th>Category</th>\n",
       "      <th>Order</th>\n",
       "      <th>Name</th>\n",
       "    </tr>\n",
       "  </thead>\n",
       "  <tbody>\n",
       "    <tr>\n",
       "      <th>0</th>\n",
       "      <td>1.5590</td>\n",
       "      <td>0.0050</td>\n",
       "      <td>0.0050</td>\n",
       "      <td>1</td>\n",
       "      <td>13</td>\n",
       "      <td>J0453+1559</td>\n",
       "    </tr>\n",
       "    <tr>\n",
       "      <th>1</th>\n",
       "      <td>1.1740</td>\n",
       "      <td>0.0040</td>\n",
       "      <td>0.0040</td>\n",
       "      <td>1</td>\n",
       "      <td>0</td>\n",
       "      <td>J0453+1559c</td>\n",
       "    </tr>\n",
       "    <tr>\n",
       "      <th>2</th>\n",
       "      <td>1.3381</td>\n",
       "      <td>0.0007</td>\n",
       "      <td>0.0007</td>\n",
       "      <td>1</td>\n",
       "      <td>6</td>\n",
       "      <td>J0737-3039A</td>\n",
       "    </tr>\n",
       "    <tr>\n",
       "      <th>3</th>\n",
       "      <td>1.2489</td>\n",
       "      <td>0.0007</td>\n",
       "      <td>0.0007</td>\n",
       "      <td>1</td>\n",
       "      <td>2</td>\n",
       "      <td>J0737-3039B</td>\n",
       "    </tr>\n",
       "    <tr>\n",
       "      <th>4</th>\n",
       "      <td>1.3330</td>\n",
       "      <td>0.0004</td>\n",
       "      <td>0.0004</td>\n",
       "      <td>1</td>\n",
       "      <td>5</td>\n",
       "      <td>B1534+12</td>\n",
       "    </tr>\n",
       "    <tr>\n",
       "      <th>...</th>\n",
       "      <td>...</td>\n",
       "      <td>...</td>\n",
       "      <td>...</td>\n",
       "      <td>...</td>\n",
       "      <td>...</td>\n",
       "      <td>...</td>\n",
       "    </tr>\n",
       "    <tr>\n",
       "      <th>63</th>\n",
       "      <td>1.7400</td>\n",
       "      <td>0.3000</td>\n",
       "      <td>0.3000</td>\n",
       "      <td>4</td>\n",
       "      <td>65</td>\n",
       "      <td>OAO 1657-415</td>\n",
       "    </tr>\n",
       "    <tr>\n",
       "      <th>64</th>\n",
       "      <td>1.0730</td>\n",
       "      <td>0.3580</td>\n",
       "      <td>0.3580</td>\n",
       "      <td>4</td>\n",
       "      <td>57</td>\n",
       "      <td>Her X-1</td>\n",
       "    </tr>\n",
       "    <tr>\n",
       "      <th>65</th>\n",
       "      <td>1.0200</td>\n",
       "      <td>0.1700</td>\n",
       "      <td>0.1700</td>\n",
       "      <td>4</td>\n",
       "      <td>56</td>\n",
       "      <td>4U1538-52</td>\n",
       "    </tr>\n",
       "    <tr>\n",
       "      <th>66</th>\n",
       "      <td>1.3670</td>\n",
       "      <td>0.0930</td>\n",
       "      <td>0.0580</td>\n",
       "      <td>4</td>\n",
       "      <td>60</td>\n",
       "      <td>B2303+46</td>\n",
       "    </tr>\n",
       "    <tr>\n",
       "      <th>67</th>\n",
       "      <td>1.2700</td>\n",
       "      <td>0.0100</td>\n",
       "      <td>0.0100</td>\n",
       "      <td>4</td>\n",
       "      <td>59</td>\n",
       "      <td>J1141-6545</td>\n",
       "    </tr>\n",
       "  </tbody>\n",
       "</table>\n",
       "<p>68 rows × 6 columns</p>\n",
       "</div>"
      ],
      "text/plain": [
       "      Mass   dMlow  dMhigh  Category  Order          Name\n",
       "0   1.5590  0.0050  0.0050         1     13    J0453+1559\n",
       "1   1.1740  0.0040  0.0040         1      0   J0453+1559c\n",
       "2   1.3381  0.0007  0.0007         1      6   J0737-3039A\n",
       "3   1.2489  0.0007  0.0007         1      2   J0737-3039B\n",
       "4   1.3330  0.0004  0.0004         1      5      B1534+12\n",
       "..     ...     ...     ...       ...    ...           ...\n",
       "63  1.7400  0.3000  0.3000         4     65  OAO 1657-415\n",
       "64  1.0730  0.3580  0.3580         4     57       Her X-1\n",
       "65  1.0200  0.1700  0.1700         4     56     4U1538-52\n",
       "66  1.3670  0.0930  0.0580         4     60      B2303+46\n",
       "67  1.2700  0.0100  0.0100         4     59    J1141-6545\n",
       "\n",
       "[68 rows x 6 columns]"
      ]
     },
     "execution_count": 16,
     "metadata": {},
     "output_type": "execute_result"
    }
   ],
   "source": [
    "df = Table.read('../Datafiles/pulsar_masses.vot')\n",
    "df = df.to_pandas()\n",
    "df.to_csv('../Datafiles/pulsar_masses.csv', index=False)\n",
    "\n",
    "df"
   ]
  },
  {
   "cell_type": "code",
   "execution_count": 75,
   "id": "4b44fd7b",
   "metadata": {
    "ExecuteTime": {
     "end_time": "2023-03-19T23:04:07.820010Z",
     "start_time": "2023-03-19T23:04:07.677795Z"
    }
   },
   "outputs": [
    {
     "data": {
      "image/png": "[encoded data removed]",
      "text/plain": [
       "<Figure size 432x288 with 1 Axes>"
      ]
     },
     "metadata": {},
     "output_type": "display_data"
    }
   ],
   "source": [
    "x = np.linspace(0, 3, 200)\n",
    "\n",
    "samples = gaussian_kde(df['Mass'])(x)\n",
    "\n",
    "plt.hist(df['Mass'], bins=15, density=True)\n",
    "plt.plot(x, samples, color='k')\n",
    "plt.xlabel('Mass', fontsize=14)\n",
    "plt.ylabel('Density', fontsize=14)\n",
    "plt.show()"
   ]
  },
  {
   "cell_type": "markdown",
   "id": "22ddec09",
   "metadata": {},
   "source": [
    "### Probability of finding a neutron star with $M \\geq 1.8 \\text{M}_\\odot$\n",
    "\n",
    "The frequentist approach is the divide the number of valid events by the total number of events:\n",
    "\n",
    "\\begin{align}\n",
    "    P(M \\geq 1.8 \\text{M}_\\odot) = \\frac{\\text{# Stars}(M \\geq 1.8 \\text{M}_\\odot)}{\\text{# All stars}}\n",
    "\\end{align}\n",
    "\n",
    "The modified frequentist approach is to add 1 to the numerator and denominator. This is done to argue against the idea of probabilities being zero for an event that isn't necessarily impossible.\n",
    "\n",
    "\\begin{align}\n",
    "    P(M \\geq 1.8 \\text{M}_\\odot) = \\frac{\\text{# Stars}(M \\geq 1.8 \\text{M}_\\odot) + 1}{\\text{# All stars} + 1}\n",
    "\\end{align}\n",
    "\n",
    "The Bayesian approach is to take the area of the normalized probability density function of the neutron star mass that corresponds to $M \\geq 1.8 \\text{M}_\\odot$:\n",
    "\n",
    "\\begin{align}\n",
    "    P(M \\geq 1.8 \\text{M}_\\odot) = \\frac{\\int_{1.8 \\text{M}_\\odot}^{+\\infty} \\rho(M) dM}{\\int_{-\\infty}^{+\\infty} \\rho(M) dM}\n",
    "\\end{align}\n",
    "\n",
    "\n",
    "The problem is that we do not have the probability density function, only a very rough estimate of it from the very limited data sample. We can try and use it to our advantage, but we must beware of the assumptions being made."
   ]
  },
  {
   "cell_type": "markdown",
   "id": "a15196e4",
   "metadata": {
    "ExecuteTime": {
     "end_time": "2023-03-19T21:22:40.218614Z",
     "start_time": "2023-03-19T21:22:40.123574Z"
    }
   },
   "source": [
    "### The frequentist approach\n",
    "\n",
    "We get a probability of 16.2%."
   ]
  },
  {
   "cell_type": "code",
   "execution_count": 25,
   "id": "ba19e539",
   "metadata": {
    "ExecuteTime": {
     "end_time": "2023-03-19T22:26:08.379801Z",
     "start_time": "2023-03-19T22:26:08.376687Z"
    }
   },
   "outputs": [
    {
     "name": "stdout",
     "output_type": "stream",
     "text": [
      "0.16176470588235295\n"
     ]
    }
   ],
   "source": [
    "P_frequentist = len(df[df['Mass'] >= 1.8]['Mass'])/len(df['Mass'])\n",
    "\n",
    "print(P_frequentist)"
   ]
  },
  {
   "cell_type": "markdown",
   "id": "17ebaee1",
   "metadata": {
    "ExecuteTime": {
     "end_time": "2023-03-19T22:25:17.271519Z",
     "start_time": "2023-03-19T22:25:17.269446Z"
    }
   },
   "source": [
    "### The modified frequentist approach\n",
    "\n",
    "We get a probability of 17.4%."
   ]
  },
  {
   "cell_type": "code",
   "execution_count": 26,
   "id": "82c5ab06",
   "metadata": {
    "ExecuteTime": {
     "end_time": "2023-03-19T22:26:08.796513Z",
     "start_time": "2023-03-19T22:26:08.793427Z"
    }
   },
   "outputs": [
    {
     "name": "stdout",
     "output_type": "stream",
     "text": [
      "0.17391304347826086\n"
     ]
    }
   ],
   "source": [
    "P_frequentist_mod = (len(df[df['Mass'] >= 1.8]['Mass']) + 1)/(len(df['Mass']) + 1)\n",
    "\n",
    "print(P_frequentist_mod)"
   ]
  },
  {
   "cell_type": "markdown",
   "id": "65d23d6e",
   "metadata": {},
   "source": [
    "### The Bayesian approach\n",
    "\n",
    "We do not have the probability density function, but we do have neutron star masses and their uncertainties. From this we can reconstruct a rough estimate of the mass distribution.\n",
    "\n",
    "The assumptions made are as follows:\n",
    "1. The sample given is sufficiently representative of the mass distribution of neutron stars\n",
    "2. The probability density function can be constructed by adding together the probability density functions of each individual neutron star mass\n",
    "    * Since we do not have access to the probability density function of each neutron star mass we have to make further assumptions.\n",
    "3. The probability density function of each neutron star follows a Gaussian distribution with mean equal to the listed mass and standard deviation equal to the mean of the upper and lower uncertainty.\n",
    "    * This is evidently false since Gaussian distributions are symmetric and the uncertainties we get are asymmetric.\n",
    "    * Gaussian distributions range from $[-\\infty, +\\infty]$, which is an unphysical range. Neutron stars cannot have negative masses and neither can they have masses that go up to infinity.\n",
    "    * The result total distribution is strongly multimodal, biasing results towards certain limited ranges\n",
    "\n",
    "\n",
    "#### Alternatively we could use a Gaussian KDE\n",
    "\n",
    "And avoid a lot of hassle."
   ]
  },
  {
   "cell_type": "code",
   "execution_count": 76,
   "id": "18ff591b",
   "metadata": {
    "ExecuteTime": {
     "end_time": "2023-03-19T23:04:15.963024Z",
     "start_time": "2023-03-19T23:04:15.642823Z"
    },
    "code_folding": []
   },
   "outputs": [
    {
     "name": "stdout",
     "output_type": "stream",
     "text": [
      "P(M >= 1.8) = 0.204467\n"
     ]
    },
    {
     "data": {
      "image/png": "[encoded data removed]",
      "text/plain": [
       "<Figure size 432x288 with 1 Axes>"
      ]
     },
     "metadata": {},
     "output_type": "display_data"
    },
    {
     "name": "stdout",
     "output_type": "stream",
     "text": [
      "P(M >= 1.8) = 0.156391\n"
     ]
    },
    {
     "data": {
      "image/png": "[encoded data removed]",
      "text/plain": [
       "<Figure size 432x288 with 1 Axes>"
      ]
     },
     "metadata": {},
     "output_type": "display_data"
    }
   ],
   "source": [
    "def gaussian(x, mu, sigma):\n",
    "    return 1/(sigma * np.sqrt(2 * np.pi)) * np.exp( -(mu - x)**2/(2*sigma**2) )\n",
    "\n",
    "\n",
    "def sum_gaussians(x):\n",
    "    y = np.zeros_like(x)\n",
    "\n",
    "    sigmas = []\n",
    "    for i in range(len(df)):\n",
    "        mu = df.iloc[i]['Mass']\n",
    "        sigma = 1/2 * (df.iloc[i]['dMlow'] + df.iloc[i]['dMhigh'])\n",
    "        sigma = round(sigma, 6)\n",
    "        sigmas.append(sigma)\n",
    "        y += gaussian(x, mu, sigma)\n",
    "   \n",
    "    ## Normalize\n",
    "    y = y / np.trapz(y, x)\n",
    "    return y\n",
    "\n",
    "PDF = sum_gaussians(x)\n",
    "\n",
    "print('P(M >= 1.8) = %f' % np.trapz(PDF[x >= 1.8], x[x >= 1.8]))\n",
    "\n",
    "plt.plot(x, PDF, label='PDF', color='k')\n",
    "plt.fill_between(x[x >= 1.8], PDF[x >= 1.8], alpha=0.5, label='$M \\geq 1.8$')\n",
    "plt.xlabel('Mass', fontsize=14)\n",
    "plt.ylabel('PDF', fontsize=14)\n",
    "plt.legend(loc='best', fontsize=14)\n",
    "plt.show()\n",
    "\n",
    "\n",
    "samples = gaussian_kde(df['Mass'])(x)\n",
    "\n",
    "print('P(M >= 1.8) = %f' % np.trapz(samples[x >= 1.8], x[x >= 1.8]))\n",
    "\n",
    "plt.plot(x, samples, color='k', label='PDF')\n",
    "plt.fill_between(x[x >= 1.8], samples[x >= 1.8], alpha=0.5, label='$M \\geq 1.8$')\n",
    "plt.xlabel('Mass', fontsize=14)\n",
    "plt.ylabel('Density', fontsize=14)\n",
    "plt.legend(loc='best', fontsize=14)\n",
    "plt.show()"
   ]
  },
  {
   "cell_type": "markdown",
   "id": "1555b287",
   "metadata": {},
   "source": [
    "### Mass ranges\n",
    "\n",
    "Actually the mass estimates are ranges, and the masses were $M_1 ∈ [1.36,2.26]$ and $M_2 ∈ [0.86,1.36]$. What are the likelihoods of those mass ranges and the likelihood of the binary?\n",
    "\n",
    "We can obtain the likelihood of each mass range separately with the previous Bayesian method."
   ]
  },
  {
   "cell_type": "code",
   "execution_count": 77,
   "id": "efbc6ed7",
   "metadata": {
    "ExecuteTime": {
     "end_time": "2023-03-19T23:04:27.135082Z",
     "start_time": "2023-03-19T23:04:26.710612Z"
    }
   },
   "outputs": [
    {
     "name": "stdout",
     "output_type": "stream",
     "text": [
      "P(1.36 < M < 2.26) = 0.556576\n",
      "P(0.86 < M < 1.36) = 0.339492\n"
     ]
    },
    {
     "data": {
      "image/png": "[encoded data removed]",
      "text/plain": [
       "<Figure size 432x288 with 1 Axes>"
      ]
     },
     "metadata": {},
     "output_type": "display_data"
    },
    {
     "name": "stdout",
     "output_type": "stream",
     "text": [
      "P(1.36 < M < 2.26) = 0.588079\n",
      "P(0.86 < M < 1.36) = 0.361754\n"
     ]
    },
    {
     "data": {
      "image/png": "[encoded data removed]",
      "text/plain": [
       "<Figure size 432x288 with 1 Axes>"
      ]
     },
     "metadata": {},
     "output_type": "display_data"
    }
   ],
   "source": [
    "plt.plot(x, PDF, label='PDF', color='k')\n",
    "\n",
    "cond = (x >= 1.36) & (x <= 2.26)\n",
    "print('P(1.36 < M < 2.26) = %f' % np.trapz(PDF[cond], x[cond]))\n",
    "plt.fill_between(x[cond], PDF[cond], alpha=0.5, label='$1.36 < M < 2.26$')\n",
    "\n",
    "cond = (x >= 0.86) & (x <= 1.36)\n",
    "print('P(0.86 < M < 1.36) = %f' % np.trapz(PDF[cond], x[cond]))\n",
    "plt.fill_between(x[cond], PDF[cond], alpha=0.5, label='$0.86 < M < 1.36$')\n",
    "\n",
    "plt.xlabel('Mass', fontsize=14)\n",
    "plt.ylabel('PDF', fontsize=14)\n",
    "plt.legend(loc='best', fontsize=14)\n",
    "plt.show()\n",
    "\n",
    "\n",
    "samples = gaussian_kde(df['Mass'])(x)\n",
    "\n",
    "plt.plot(x, samples, color='k', label='PDF')\n",
    "\n",
    "cond = (x >= 1.36) & (x <= 2.26)\n",
    "print('P(1.36 < M < 2.26) = %f' % np.trapz(samples[cond], x[cond]))\n",
    "plt.fill_between(x[cond], samples[cond], alpha=0.5, label='$1.36 < M < 2.26$')\n",
    "\n",
    "cond = (x >= 0.86) & (x <= 1.36)\n",
    "print('P(0.86 < M < 1.36) = %f' % np.trapz(samples[cond], x[cond]))\n",
    "plt.fill_between(x[cond], samples[cond], alpha=0.5, label='$0.86 < M < 1.36$')\n",
    "plt.xlabel('Mass', fontsize=14)\n",
    "plt.ylabel('Density', fontsize=14)\n",
    "plt.legend(loc='best', fontsize=14)\n",
    "plt.show()"
   ]
  },
  {
   "cell_type": "markdown",
   "id": "9b7dad3a",
   "metadata": {},
   "source": [
    "### Binary likelihood\n",
    "\n",
    "The likelihood of a binary can be obtained with the frequentist approach.\n",
    "\n",
    "The frequentist approach:\n",
    "\n",
    "\\begin{align}\n",
    "    P(\\text{Binary}) = \\frac{\\text{# Binary Stars}}{\\text{# All stars}}\n",
    "\\end{align}\n",
    "\n",
    "The modified frequentist approach:\n",
    "\n",
    "\\begin{align}\n",
    "    P(\\text{Binary}) = \\frac{\\text{# Binary Stars} + 1}{\\text{# All stars} + 1}\n",
    "\\end{align}\n"
   ]
  },
  {
   "cell_type": "code",
   "execution_count": 79,
   "id": "7e1728f3",
   "metadata": {
    "ExecuteTime": {
     "end_time": "2023-03-19T23:36:20.809715Z",
     "start_time": "2023-03-19T23:36:20.806053Z"
    }
   },
   "outputs": [
    {
     "data": {
      "text/plain": [
       "0.3235294117647059"
      ]
     },
     "execution_count": 79,
     "metadata": {},
     "output_type": "execute_result"
    }
   ],
   "source": [
    "len(df[df['Category'] == 1]) / len(df['Category'])"
   ]
  },
  {
   "cell_type": "code",
   "execution_count": 80,
   "id": "90e60a25",
   "metadata": {
    "ExecuteTime": {
     "end_time": "2023-03-19T23:36:46.019725Z",
     "start_time": "2023-03-19T23:36:46.014055Z"
    }
   },
   "outputs": [
    {
     "data": {
      "text/plain": [
       "0.3333333333333333"
      ]
     },
     "execution_count": 80,
     "metadata": {},
     "output_type": "execute_result"
    }
   ],
   "source": [
    "(len(df[df['Category'] == 1]) + 1) / (len(df['Category']) + 1)"
   ]
  },
  {
   "cell_type": "code",
   "execution_count": null,
   "id": "ffc8f43c",
   "metadata": {},
   "outputs": [],
   "source": []
  }
 ],
 "metadata": {
  "kernelspec": {
   "display_name": "Python 3 (ipykernel)",
   "language": "python",
   "name": "python3"
  },
  "language_info": {
   "codemirror_mode": {
    "name": "ipython",
    "version": 3
   },
   "file_extension": ".py",
   "mimetype": "text/x-python",
   "name": "python",
   "nbconvert_exporter": "python",
   "pygments_lexer": "ipython3",
   "version": "3.8.11"
  },
  "varInspector": {
   "cols": {
    "lenName": 16,
    "lenType": 16,
    "lenVar": 40
   },
   "kernels_config": {
    "python": {
     "delete_cmd_postfix": "",
     "delete_cmd_prefix": "del ",
     "library": "var_list.py",
     "varRefreshCmd": "print(var_dic_list())"
    },
    "r": {
     "delete_cmd_postfix": ") ",
     "delete_cmd_prefix": "rm(",
     "library": "var_list.r",
     "varRefreshCmd": "cat(var_dic_list()) "
    }
   },
   "types_to_exclude": [
    "module",
    "function",
    "builtin_function_or_method",
    "instance",
    "_Feature"
   ],
   "window_display": false
  }
 },
 "nbformat": 4,
 "nbformat_minor": 5
}
