{
 "cells": [
  {
   "cell_type": "code",
   "execution_count": 1,
   "id": "b37aaf2c",
   "metadata": {
    "ExecuteTime": {
     "end_time": "2023-03-19T21:24:29.528121Z",
     "start_time": "2023-03-19T21:24:28.461426Z"
    }
   },
   "outputs": [],
   "source": [
    "import numpy as np\n",
    "import matplotlib.pyplot as plt\n",
    "import seaborn as sns\n",
    "import pandas as pd\n",
    "from astropy.io import fits\n",
    "from sklearn.mixture import GaussianMixture\n",
    "from sklearn.cluster import KMeans, DBSCAN\n",
    "from sklearn_extra.cluster import KMedoids\n",
    "from sklearn.neighbors import KernelDensity\n",
    "from sklearn.model_selection import train_test_split, GridSearchCV, KFold\n",
    "from scipy.stats import gaussian_kde\n",
    "import seaborn as sns\n",
    "\n",
    "sns.set(style=\"darkgrid\")"
   ]
  },
  {
   "cell_type": "code",
   "execution_count": 15,
   "id": "1e123205",
   "metadata": {
    "ExecuteTime": {
     "end_time": "2023-03-19T21:30:45.623908Z",
     "start_time": "2023-03-19T21:30:45.595300Z"
    },
    "scrolled": true
   },
   "outputs": [
    {
     "name": "stdout",
     "output_type": "stream",
     "text": [
      "Filename: ../Datafiles/mysterious-peaks.fits\n",
      "No.    Name      Ver    Type      Cards   Dimensions   Format\n",
      "  0  PRIMARY       1 PrimaryHDU       5   (5268,)   float64   \n"
     ]
    }
   ],
   "source": [
    "df = fits.open('../Datafiles/mysterious-peaks.fits')\n",
    "\n",
    "df.info()\n",
    "\n",
    "X = df[0].data\n",
    "X = np.sort(X).reshape(-1, 1)"
   ]
  },
  {
   "cell_type": "code",
   "execution_count": 3,
   "id": "438eedde",
   "metadata": {
    "ExecuteTime": {
     "end_time": "2023-03-19T21:24:30.967830Z",
     "start_time": "2023-03-19T21:24:30.739977Z"
    }
   },
   "outputs": [
    {
     "data": {
      "image/png": "[encoded data removed]",
      "text/plain": [
       "<Figure size 345.6x288 with 1 Axes>"
      ]
     },
     "metadata": {
      "needs_background": "light"
     },
     "output_type": "display_data"
    }
   ],
   "source": [
    "plt.figure(figsize=(4*1.2, 4))\n",
    "counts, bins, _  = plt.hist(X, bins=50, density=True)\n",
    "plt.xlabel('Points')\n",
    "plt.ylabel('Density')\n",
    "plt.show()"
   ]
  },
  {
   "cell_type": "code",
   "execution_count": 4,
   "id": "8fae9915",
   "metadata": {
    "ExecuteTime": {
     "end_time": "2023-03-19T21:24:32.968998Z",
     "start_time": "2023-03-19T21:24:32.610647Z"
    }
   },
   "outputs": [
    {
     "data": {
      "image/png": "[encoded data removed]",
      "text/plain": [
       "<Figure size 345.6x288 with 1 Axes>"
      ]
     },
     "metadata": {
      "needs_background": "light"
     },
     "output_type": "display_data"
    }
   ],
   "source": [
    "KDE = KernelDensity(bandwidth=1)\n",
    "KDE.fit(X)\n",
    "\n",
    "x = np.linspace(min(X), max(X), 1000)\n",
    "y = np.exp(KDE.score_samples(x))\n",
    "\n",
    "plt.figure(figsize=(4*1.2, 4))\n",
    "counts, bins, _  = plt.hist(X, bins=50, density=True)\n",
    "plt.plot(x, y)\n",
    "plt.xlabel('Points')\n",
    "plt.ylabel('Density')\n",
    "plt.show()"
   ]
  },
  {
   "cell_type": "code",
   "execution_count": 6,
   "id": "6606ddae",
   "metadata": {
    "ExecuteTime": {
     "end_time": "2023-03-19T21:24:38.307277Z",
     "start_time": "2023-03-19T21:24:38.302067Z"
    }
   },
   "outputs": [],
   "source": [
    "def many_kfolds(X, bws, n_splits):\n",
    "    \n",
    "    scores = np.zeros_like(bws)\n",
    "    lnPs = np.zeros_like(bws)\n",
    "    for i, bw in enumerate(bws):\n",
    "        print(i, bw)\n",
    "    \n",
    "        lnP = 0.0\n",
    "        kf = KFold(n_splits=n_splits)\n",
    "        for train, test in kf.split(X):\n",
    "            x_train = X[train, :]\n",
    "            x_test = X[test, :]\n",
    "\n",
    "            kde = KernelDensity(kernel='gaussian', bandwidth=bw).fit(x_train)\n",
    "            log_prob = kde.score(x_test)\n",
    "            lnP += log_prob\n",
    "            \n",
    "        lnPs[i] = lnP\n",
    "        \n",
    "    return bws, lnPs"
   ]
  },
  {
   "cell_type": "code",
   "execution_count": 10,
   "id": "9e06b2fc",
   "metadata": {
    "ExecuteTime": {
     "end_time": "2023-03-19T21:25:01.437906Z",
     "start_time": "2023-03-19T21:25:01.435330Z"
    }
   },
   "outputs": [
    {
     "data": {
      "text/plain": [
       "array([-14.97136966, -14.83595146, -14.81958077, ...,  14.45738125,\n",
       "        14.5052249 ,  14.6315482 ])"
      ]
     },
     "execution_count": 10,
     "metadata": {},
     "output_type": "execute_result"
    }
   ],
   "source": [
    "X.ravel()"
   ]
  },
  {
   "cell_type": "code",
   "execution_count": 11,
   "id": "7b304378",
   "metadata": {
    "ExecuteTime": {
     "end_time": "2023-03-19T21:25:19.543084Z",
     "start_time": "2023-03-19T21:25:13.020011Z"
    },
    "scrolled": true
   },
   "outputs": [
    {
     "name": "stdout",
     "output_type": "stream",
     "text": [
      "0 0.1\n",
      "1 0.6444444444444445\n",
      "2 1.188888888888889\n",
      "3 1.7333333333333336\n",
      "4 2.277777777777778\n",
      "5 2.8222222222222224\n",
      "6 3.366666666666667\n",
      "7 3.911111111111112\n",
      "8 4.455555555555556\n",
      "9 5.0\n"
     ]
    }
   ],
   "source": [
    "bws = np.linspace(0.1, 5, 10)\n",
    "\n",
    "n_splits = 5\n",
    "\n",
    "bw, lnPs = many_kfolds(X, bws, n_splits)"
   ]
  },
  {
   "cell_type": "code",
   "execution_count": 12,
   "id": "cbcfbfa9",
   "metadata": {
    "ExecuteTime": {
     "end_time": "2023-03-19T21:25:21.338529Z",
     "start_time": "2023-03-19T21:25:21.335572Z"
    }
   },
   "outputs": [
    {
     "data": {
      "text/plain": [
       "5.0"
      ]
     },
     "execution_count": 12,
     "metadata": {},
     "output_type": "execute_result"
    }
   ],
   "source": [
    "bw = bws[np.argmax(lnPs)]\n",
    "bw"
   ]
  },
  {
   "cell_type": "code",
   "execution_count": 13,
   "id": "0fb335e8",
   "metadata": {
    "ExecuteTime": {
     "end_time": "2023-03-19T21:25:25.775132Z",
     "start_time": "2023-03-19T21:25:25.603523Z"
    }
   },
   "outputs": [
    {
     "data": {
      "text/plain": [
       "[<matplotlib.lines.Line2D at 0x152c157c4df0>]"
      ]
     },
     "execution_count": 13,
     "metadata": {},
     "output_type": "execute_result"
    },
    {
     "data": {
      "image/png": "[encoded data removed]",
      "text/plain": [
       "<Figure size 432x288 with 1 Axes>"
      ]
     },
     "metadata": {
      "needs_background": "light"
     },
     "output_type": "display_data"
    }
   ],
   "source": [
    "plt.plot(bws, lnPs)"
   ]
  },
  {
   "cell_type": "code",
   "execution_count": 115,
   "id": "b89d52d4",
   "metadata": {
    "ExecuteTime": {
     "end_time": "2023-03-19T14:42:25.003396Z",
     "start_time": "2023-03-19T14:42:24.630551Z"
    }
   },
   "outputs": [
    {
     "data": {
      "image/png": "[encoded data removed]",
      "text/plain": [
       "<Figure size 345.6x288 with 1 Axes>"
      ]
     },
     "metadata": {},
     "output_type": "display_data"
    }
   ],
   "source": [
    "KDE = KernelDensity(bandwidth=bw)\n",
    "KDE.fit(X)\n",
    "\n",
    "x = np.linspace(min(X), max(X), 1000)\n",
    "y = np.exp(KDE.score_samples(x))\n",
    "\n",
    "plt.figure(figsize=(4*1.2, 4))\n",
    "counts, bins, _  = plt.hist(X, bins=50, density=True)\n",
    "plt.plot(x, y)\n",
    "plt.xlabel('Points')\n",
    "plt.ylabel('Density')\n",
    "plt.show()"
   ]
  },
  {
   "cell_type": "code",
   "execution_count": 126,
   "id": "925ea144",
   "metadata": {
    "ExecuteTime": {
     "end_time": "2023-03-19T14:52:29.985318Z",
     "start_time": "2023-03-19T14:52:29.974083Z"
    }
   },
   "outputs": [
    {
     "data": {
      "text/plain": [
       "array([[-14.97136966],\n",
       "       [-14.83595146],\n",
       "       [-14.81958077],\n",
       "       ...,\n",
       "       [ 14.45738125],\n",
       "       [ 14.5052249 ],\n",
       "       [ 14.6315482 ]])"
      ]
     },
     "execution_count": 126,
     "metadata": {},
     "output_type": "execute_result"
    }
   ],
   "source": [
    "X"
   ]
  },
  {
   "cell_type": "code",
   "execution_count": 212,
   "id": "6f612b08",
   "metadata": {
    "ExecuteTime": {
     "end_time": "2023-03-19T15:34:29.926202Z",
     "start_time": "2023-03-19T15:34:23.370062Z"
    },
    "scrolled": true
   },
   "outputs": [
    {
     "name": "stdout",
     "output_type": "stream",
     "text": [
      "Fitting 20 folds for each of 10 candidates, totalling 200 fits\n",
      "[CV 1/20] END ..............bandwidth=0.1;, score=-134008.460 total time=   0.0s\n",
      "[CV 2/20] END ................bandwidth=0.1;, score=-1780.183 total time=   0.0s\n",
      "[CV 3/20] END ................bandwidth=0.1;, score=-1198.998 total time=   0.0s\n",
      "[CV 4/20] END ................bandwidth=0.1;, score=-1064.294 total time=   0.0s\n",
      "[CV 5/20] END .................bandwidth=0.1;, score=-990.412 total time=   0.0s\n",
      "[CV 6/20] END ................bandwidth=0.1;, score=-1019.799 total time=   0.0s\n",
      "[CV 7/20] END ................bandwidth=0.1;, score=-1055.979 total time=   0.0s\n",
      "[CV 8/20] END ................bandwidth=0.1;, score=-1026.786 total time=   0.0s\n",
      "[CV 9/20] END ................bandwidth=0.1;, score=-1091.921 total time=   0.0s\n",
      "[CV 10/20] END ...............bandwidth=0.1;, score=-1267.906 total time=   0.0s\n",
      "[CV 11/20] END ...............bandwidth=0.1;, score=-1718.692 total time=   0.0s\n",
      "[CV 12/20] END ...............bandwidth=0.1;, score=-1692.252 total time=   0.0s\n",
      "[CV 13/20] END ...............bandwidth=0.1;, score=-1150.722 total time=   0.0s\n",
      "[CV 14/20] END ...............bandwidth=0.1;, score=-1580.796 total time=   0.0s\n",
      "[CV 15/20] END ...............bandwidth=0.1;, score=-4249.971 total time=   0.0s\n",
      "[CV 16/20] END ...............bandwidth=0.1;, score=-1871.304 total time=   0.0s\n",
      "[CV 17/20] END ...............bandwidth=0.1;, score=-1505.544 total time=   0.0s\n",
      "[CV 18/20] END ...............bandwidth=0.1;, score=-2237.819 total time=   0.0s\n",
      "[CV 19/20] END ...............bandwidth=0.1;, score=-5138.017 total time=   0.0s\n",
      "[CV 20/20] END .............bandwidth=0.1;, score=-173492.228 total time=   0.0s\n",
      "[CV 1/20] END ...............bandwidth=0.2;, score=-34644.963 total time=   0.0s\n",
      "[CV 2/20] END ................bandwidth=0.2;, score=-1172.984 total time=   0.0s\n",
      "[CV 3/20] END .................bandwidth=0.2;, score=-897.071 total time=   0.0s\n",
      "[CV 4/20] END .................bandwidth=0.2;, score=-800.049 total time=   0.0s\n",
      "[CV 5/20] END .................bandwidth=0.2;, score=-762.702 total time=   0.0s\n",
      "[CV 6/20] END .................bandwidth=0.2;, score=-786.523 total time=   0.0s\n",
      "[CV 7/20] END .................bandwidth=0.2;, score=-793.077 total time=   0.0s\n",
      "[CV 8/20] END .................bandwidth=0.2;, score=-797.037 total time=   0.0s\n",
      "[CV 9/20] END .................bandwidth=0.2;, score=-821.875 total time=   0.0s\n",
      "[CV 10/20] END ................bandwidth=0.2;, score=-919.811 total time=   0.0s\n",
      "[CV 11/20] END ...............bandwidth=0.2;, score=-1164.706 total time=   0.0s\n",
      "[CV 12/20] END ...............bandwidth=0.2;, score=-1088.389 total time=   0.0s\n",
      "[CV 13/20] END ................bandwidth=0.2;, score=-893.469 total time=   0.0s\n",
      "[CV 14/20] END ...............bandwidth=0.2;, score=-1108.471 total time=   0.0s\n",
      "[CV 15/20] END ...............bandwidth=0.2;, score=-1939.951 total time=   0.0s\n",
      "[CV 16/20] END ...............bandwidth=0.2;, score=-1210.868 total time=   0.0s\n",
      "[CV 17/20] END ...............bandwidth=0.2;, score=-1072.660 total time=   0.0s\n",
      "[CV 18/20] END ...............bandwidth=0.2;, score=-1347.147 total time=   0.0s\n",
      "[CV 19/20] END ...............bandwidth=0.2;, score=-2279.458 total time=   0.0s\n",
      "[CV 20/20] END ..............bandwidth=0.2;, score=-44688.093 total time=   0.0s\n",
      "[CV 1/20] END bandwidth=0.30000000000000004;, score=-16169.442 total time=   0.0s\n",
      "[CV 2/20] END bandwidth=0.30000000000000004;, score=-1013.772 total time=   0.0s\n",
      "[CV 3/20] END .bandwidth=0.30000000000000004;, score=-795.180 total time=   0.0s\n",
      "[CV 4/20] END .bandwidth=0.30000000000000004;, score=-715.452 total time=   0.0s\n",
      "[CV 5/20] END .bandwidth=0.30000000000000004;, score=-689.260 total time=   0.0s\n",
      "[CV 6/20] END .bandwidth=0.30000000000000004;, score=-699.833 total time=   0.0s\n",
      "[CV 7/20] END .bandwidth=0.30000000000000004;, score=-704.429 total time=   0.0s\n",
      "[CV 8/20] END .bandwidth=0.30000000000000004;, score=-712.505 total time=   0.0s\n",
      "[CV 9/20] END .bandwidth=0.30000000000000004;, score=-735.447 total time=   0.0s\n",
      "[CV 10/20] END bandwidth=0.30000000000000004;, score=-815.421 total time=   0.0s\n",
      "[CV 11/20] END bandwidth=0.30000000000000004;, score=-996.394 total time=   0.0s\n",
      "[CV 12/20] END bandwidth=0.30000000000000004;, score=-936.355 total time=   0.0s\n",
      "[CV 13/20] END bandwidth=0.30000000000000004;, score=-819.724 total time=   0.0s\n",
      "[CV 14/20] END bandwidth=0.30000000000000004;, score=-967.758 total time=   0.0s\n",
      "[CV 15/20] END bandwidth=0.30000000000000004;, score=-1449.408 total time=   0.0s\n",
      "[CV 16/20] END bandwidth=0.30000000000000004;, score=-1047.318 total time=   0.0s\n",
      "[CV 17/20] END bandwidth=0.30000000000000004;, score=-956.382 total time=   0.0s\n",
      "[CV 18/20] END bandwidth=0.30000000000000004;, score=-1140.029 total time=   0.0s\n",
      "[CV 19/20] END bandwidth=0.30000000000000004;, score=-1710.322 total time=   0.0s\n",
      "[CV 20/20] END bandwidth=0.30000000000000004;, score=-20780.430 total time=   0.0s\n",
      "[CV 1/20] END ................bandwidth=0.4;, score=-9657.471 total time=   0.0s\n",
      "[CV 2/20] END .................bandwidth=0.4;, score=-933.493 total time=   0.0s\n",
      "[CV 3/20] END .................bandwidth=0.4;, score=-744.586 total time=   0.0s\n",
      "[CV 4/20] END .................bandwidth=0.4;, score=-676.130 total time=   0.0s\n",
      "[CV 5/20] END .................bandwidth=0.4;, score=-653.435 total time=   0.0s\n",
      "[CV 6/20] END .................bandwidth=0.4;, score=-655.498 total time=   0.0s\n",
      "[CV 7/20] END .................bandwidth=0.4;, score=-660.164 total time=   0.0s\n",
      "[CV 8/20] END .................bandwidth=0.4;, score=-670.251 total time=   0.0s\n",
      "[CV 9/20] END .................bandwidth=0.4;, score=-694.122 total time=   0.0s\n",
      "[CV 10/20] END ................bandwidth=0.4;, score=-762.551 total time=   0.0s\n",
      "[CV 11/20] END ................bandwidth=0.4;, score=-901.418 total time=   0.0s\n",
      "[CV 12/20] END ................bandwidth=0.4;, score=-861.986 total time=   0.0s\n",
      "[CV 13/20] END ................bandwidth=0.4;, score=-790.738 total time=   0.0s\n",
      "[CV 14/20] END ................bandwidth=0.4;, score=-900.401 total time=   0.0s\n",
      "[CV 15/20] END ...............bandwidth=0.4;, score=-1241.832 total time=   0.0s\n",
      "[CV 16/20] END ................bandwidth=0.4;, score=-971.354 total time=   0.0s\n",
      "[CV 17/20] END ................bandwidth=0.4;, score=-902.195 total time=   0.0s\n",
      "[CV 18/20] END ...............bandwidth=0.4;, score=-1045.059 total time=   0.0s\n",
      "[CV 19/20] END ...............bandwidth=0.4;, score=-1486.151 total time=   0.0s\n",
      "[CV 20/20] END ..............bandwidth=0.4;, score=-12383.622 total time=   0.0s\n",
      "[CV 1/20] END ................bandwidth=0.5;, score=-6617.636 total time=   0.0s\n",
      "[CV 2/20] END .................bandwidth=0.5;, score=-882.847 total time=   0.0s\n",
      "[CV 3/20] END .................bandwidth=0.5;, score=-717.022 total time=   0.0s\n",
      "[CV 4/20] END .................bandwidth=0.5;, score=-655.946 total time=   0.0s\n",
      "[CV 5/20] END .................bandwidth=0.5;, score=-633.646 total time=   0.0s\n",
      "[CV 6/20] END .................bandwidth=0.5;, score=-630.744 total time=   0.0s\n",
      "[CV 7/20] END .................bandwidth=0.5;, score=-634.919 total time=   0.0s\n",
      "[CV 8/20] END .................bandwidth=0.5;, score=-646.718 total time=   0.0s\n",
      "[CV 9/20] END .................bandwidth=0.5;, score=-671.521 total time=   0.0s\n",
      "[CV 10/20] END ................bandwidth=0.5;, score=-730.911 total time=   0.0s\n",
      "[CV 11/20] END ................bandwidth=0.5;, score=-837.897 total time=   0.0s\n",
      "[CV 12/20] END ................bandwidth=0.5;, score=-818.103 total time=   0.0s\n",
      "[CV 13/20] END ................bandwidth=0.5;, score=-779.631 total time=   0.0s\n",
      "[CV 14/20] END ................bandwidth=0.5;, score=-865.076 total time=   0.0s\n",
      "[CV 15/20] END ...............bandwidth=0.5;, score=-1123.767 total time=   0.0s\n",
      "[CV 16/20] END ................bandwidth=0.5;, score=-928.423 total time=   0.0s\n",
      "[CV 17/20] END ................bandwidth=0.5;, score=-873.557 total time=   0.0s\n",
      "[CV 18/20] END ................bandwidth=0.5;, score=-988.415 total time=   0.0s\n",
      "[CV 19/20] END ...............bandwidth=0.5;, score=-1363.325 total time=   0.0s\n",
      "[CV 20/20] END ...............bandwidth=0.5;, score=-8479.421 total time=   0.0s\n",
      "[CV 1/20] END ................bandwidth=0.6;, score=-4949.788 total time=   0.0s\n",
      "[CV 2/20] END .................bandwidth=0.6;, score=-848.287 total time=   0.0s\n",
      "[CV 3/20] END .................bandwidth=0.6;, score=-701.377 total time=   0.0s\n",
      "[CV 4/20] END .................bandwidth=0.6;, score=-645.142 total time=   0.0s\n",
      "[CV 5/20] END .................bandwidth=0.6;, score=-622.409 total time=   0.0s\n",
      "[CV 6/20] END .................bandwidth=0.6;, score=-616.416 total time=   0.0s\n"
     ]
    },
    {
     "name": "stdout",
     "output_type": "stream",
     "text": [
      "[CV 7/20] END .................bandwidth=0.6;, score=-619.932 total time=   0.0s\n",
      "[CV 8/20] END .................bandwidth=0.6;, score=-632.855 total time=   0.0s\n",
      "[CV 9/20] END .................bandwidth=0.6;, score=-657.903 total time=   0.0s\n",
      "[CV 10/20] END ................bandwidth=0.6;, score=-709.677 total time=   0.0s\n",
      "[CV 11/20] END ................bandwidth=0.6;, score=-792.730 total time=   0.0s\n",
      "[CV 12/20] END ................bandwidth=0.6;, score=-790.178 total time=   0.0s\n",
      "[CV 13/20] END ................bandwidth=0.6;, score=-775.679 total time=   0.0s\n",
      "[CV 14/20] END ................bandwidth=0.6;, score=-845.464 total time=   0.0s\n",
      "[CV 15/20] END ...............bandwidth=0.6;, score=-1045.941 total time=   0.0s\n",
      "[CV 16/20] END ................bandwidth=0.6;, score=-902.711 total time=   0.0s\n",
      "[CV 17/20] END ................bandwidth=0.6;, score=-858.005 total time=   0.0s\n",
      "[CV 18/20] END ................bandwidth=0.6;, score=-951.103 total time=   0.0s\n",
      "[CV 19/20] END ...............bandwidth=0.6;, score=-1282.281 total time=   0.0s\n",
      "[CV 20/20] END ...............bandwidth=0.6;, score=-6345.877 total time=   0.0s\n",
      "[CV 1/20] END .bandwidth=0.7000000000000001;, score=-3932.266 total time=   0.0s\n",
      "[CV 2/20] END ..bandwidth=0.7000000000000001;, score=-823.658 total time=   0.0s\n",
      "[CV 3/20] END ..bandwidth=0.7000000000000001;, score=-692.366 total time=   0.0s\n",
      "[CV 4/20] END ..bandwidth=0.7000000000000001;, score=-639.550 total time=   0.0s\n",
      "[CV 5/20] END ..bandwidth=0.7000000000000001;, score=-616.356 total time=   0.0s\n",
      "[CV 6/20] END ..bandwidth=0.7000000000000001;, score=-608.376 total time=   0.0s\n",
      "[CV 7/20] END ..bandwidth=0.7000000000000001;, score=-611.244 total time=   0.0s\n",
      "[CV 8/20] END ..bandwidth=0.7000000000000001;, score=-624.555 total time=   0.0s\n",
      "[CV 9/20] END ..bandwidth=0.7000000000000001;, score=-648.948 total time=   0.0s\n",
      "[CV 10/20] END .bandwidth=0.7000000000000001;, score=-693.915 total time=   0.0s\n",
      "[CV 11/20] END .bandwidth=0.7000000000000001;, score=-759.686 total time=   0.0s\n",
      "[CV 12/20] END .bandwidth=0.7000000000000001;, score=-771.405 total time=   0.0s\n",
      "[CV 13/20] END .bandwidth=0.7000000000000001;, score=-774.145 total time=   0.0s\n",
      "[CV 14/20] END .bandwidth=0.7000000000000001;, score=-833.459 total time=   0.0s\n",
      "[CV 15/20] END .bandwidth=0.7000000000000001;, score=-990.362 total time=   0.0s\n",
      "[CV 16/20] END .bandwidth=0.7000000000000001;, score=-886.760 total time=   0.0s\n",
      "[CV 17/20] END .bandwidth=0.7000000000000001;, score=-849.854 total time=   0.0s\n",
      "[CV 18/20] END .bandwidth=0.7000000000000001;, score=-925.890 total time=   0.0s\n",
      "[CV 19/20] END bandwidth=0.7000000000000001;, score=-1222.616 total time=   0.0s\n",
      "[CV 20/20] END bandwidth=0.7000000000000001;, score=-5049.556 total time=   0.0s\n",
      "[CV 1/20] END ................bandwidth=0.8;, score=-3262.906 total time=   0.0s\n",
      "[CV 2/20] END .................bandwidth=0.8;, score=-805.529 total time=   0.0s\n",
      "[CV 3/20] END .................bandwidth=0.8;, score=-687.226 total time=   0.0s\n",
      "[CV 4/20] END .................bandwidth=0.8;, score=-637.164 total time=   0.0s\n",
      "[CV 5/20] END .................bandwidth=0.8;, score=-613.744 total time=   0.0s\n",
      "[CV 6/20] END .................bandwidth=0.8;, score=-604.495 total time=   0.0s\n",
      "[CV 7/20] END .................bandwidth=0.8;, score=-606.698 total time=   0.0s\n",
      "[CV 8/20] END .................bandwidth=0.8;, score=-619.698 total time=   0.0s\n",
      "[CV 9/20] END .................bandwidth=0.8;, score=-642.558 total time=   0.0s\n",
      "[CV 10/20] END ................bandwidth=0.8;, score=-681.393 total time=   0.0s\n",
      "[CV 11/20] END ................bandwidth=0.8;, score=-735.169 total time=   0.0s\n",
      "[CV 12/20] END ................bandwidth=0.8;, score=-758.075 total time=   0.0s\n",
      "[CV 13/20] END ................bandwidth=0.8;, score=-772.889 total time=   0.0s\n",
      "[CV 14/20] END ................bandwidth=0.8;, score=-824.865 total time=   0.0s\n",
      "[CV 15/20] END ................bandwidth=0.8;, score=-948.757 total time=   0.0s\n",
      "[CV 16/20] END ................bandwidth=0.8;, score=-876.310 total time=   0.0s\n",
      "[CV 17/20] END ................bandwidth=0.8;, score=-846.118 total time=   0.0s\n",
      "[CV 18/20] END ................bandwidth=0.8;, score=-908.893 total time=   0.0s\n",
      "[CV 19/20] END ...............bandwidth=0.8;, score=-1175.821 total time=   0.0s\n",
      "[CV 20/20] END ...............bandwidth=0.8;, score=-4200.273 total time=   0.0s\n",
      "[CV 1/20] END ................bandwidth=0.9;, score=-2797.059 total time=   0.0s\n",
      "[CV 2/20] END .................bandwidth=0.9;, score=-791.840 total time=   0.0s\n",
      "[CV 3/20] END .................bandwidth=0.9;, score=-684.463 total time=   0.0s\n",
      "[CV 4/20] END .................bandwidth=0.9;, score=-636.900 total time=   0.0s\n",
      "[CV 5/20] END .................bandwidth=0.9;, score=-613.552 total time=   0.0s\n",
      "[CV 6/20] END .................bandwidth=0.9;, score=-603.501 total time=   0.0s\n",
      "[CV 7/20] END .................bandwidth=0.9;, score=-604.964 total time=   0.0s\n",
      "[CV 8/20] END .................bandwidth=0.9;, score=-617.064 total time=   0.0s\n",
      "[CV 9/20] END .................bandwidth=0.9;, score=-637.731 total time=   0.0s\n",
      "[CV 10/20] END ................bandwidth=0.9;, score=-671.180 total time=   0.0s\n",
      "[CV 11/20] END ................bandwidth=0.9;, score=-716.836 total time=   0.0s\n",
      "[CV 12/20] END ................bandwidth=0.9;, score=-748.066 total time=   0.0s\n",
      "[CV 13/20] END ................bandwidth=0.9;, score=-771.002 total time=   0.0s\n",
      "[CV 14/20] END ................bandwidth=0.9;, score=-817.527 total time=   0.0s\n",
      "[CV 15/20] END ................bandwidth=0.9;, score=-916.665 total time=   0.0s\n",
      "[CV 16/20] END ................bandwidth=0.9;, score=-868.837 total time=   0.0s\n",
      "[CV 17/20] END ................bandwidth=0.9;, score=-845.014 total time=   0.0s\n",
      "[CV 18/20] END ................bandwidth=0.9;, score=-897.630 total time=   0.0s\n",
      "[CV 19/20] END ...............bandwidth=0.9;, score=-1137.892 total time=   0.0s\n",
      "[CV 20/20] END ...............bandwidth=0.9;, score=-3611.465 total time=   0.0s\n",
      "[CV 1/20] END ................bandwidth=1.0;, score=-2458.371 total time=   0.0s\n",
      "[CV 2/20] END .................bandwidth=1.0;, score=-781.308 total time=   0.0s\n",
      "[CV 3/20] END .................bandwidth=1.0;, score=-683.258 total time=   0.0s\n",
      "[CV 4/20] END .................bandwidth=1.0;, score=-638.110 total time=   0.0s\n",
      "[CV 5/20] END .................bandwidth=1.0;, score=-615.102 total time=   0.0s\n",
      "[CV 6/20] END .................bandwidth=1.0;, score=-604.539 total time=   0.0s\n",
      "[CV 7/20] END .................bandwidth=1.0;, score=-605.155 total time=   0.0s\n",
      "[CV 8/20] END .................bandwidth=1.0;, score=-615.921 total time=   0.0s\n",
      "[CV 9/20] END .................bandwidth=1.0;, score=-634.039 total time=   0.0s\n",
      "[CV 10/20] END ................bandwidth=1.0;, score=-662.895 total time=   0.0s\n",
      "[CV 11/20] END ................bandwidth=1.0;, score=-703.056 total time=   0.0s\n",
      "[CV 12/20] END ................bandwidth=1.0;, score=-740.125 total time=   0.0s\n",
      "[CV 13/20] END ................bandwidth=1.0;, score=-768.197 total time=   0.0s\n",
      "[CV 14/20] END ................bandwidth=1.0;, score=-810.414 total time=   0.0s\n",
      "[CV 15/20] END ................bandwidth=1.0;, score=-891.398 total time=   0.0s\n",
      "[CV 16/20] END ................bandwidth=1.0;, score=-862.911 total time=   0.0s\n",
      "[CV 17/20] END ................bandwidth=1.0;, score=-845.366 total time=   0.0s\n",
      "[CV 18/20] END ................bandwidth=1.0;, score=-890.396 total time=   0.0s\n",
      "[CV 19/20] END ...............bandwidth=1.0;, score=-1106.706 total time=   0.0s\n",
      "[CV 20/20] END ...............bandwidth=1.0;, score=-3184.746 total time=   0.0s\n"
     ]
    },
    {
     "data": {
      "text/plain": [
       "GridSearchCV(cv=20, estimator=KernelDensity(),\n",
       "             param_grid={'bandwidth': array([0.1, 0.2, 0.3, 0.4, 0.5, 0.6, 0.7, 0.8, 0.9, 1. ])},\n",
       "             verbose=3)"
      ]
     },
     "execution_count": 212,
     "metadata": {},
     "output_type": "execute_result"
    }
   ],
   "source": [
    "param_grid = {\n",
    "    \"bandwidth\": np.linspace(0.1, 1, 10)\n",
    "}\n",
    "\n",
    "grid_search = GridSearchCV(KernelDensity(), param_grid, cv=20, verbose=3)\n",
    "grid_search.fit(X.reshape(-1, 1))"
   ]
  },
  {
   "cell_type": "code",
   "execution_count": 219,
   "id": "d9b550a9",
   "metadata": {
    "ExecuteTime": {
     "end_time": "2023-03-19T15:36:12.260637Z",
     "start_time": "2023-03-19T15:36:12.257885Z"
    }
   },
   "outputs": [
    {
     "data": {
      "text/plain": [
       "array([46035.07402353, 11683.61907739,  5317.05518035,  3084.1624002 ,\n",
       "        2047.37830436,  1481.52144618,  1138.09020941,   913.30974807,\n",
       "         757.613386  ,   644.88631764])"
      ]
     },
     "execution_count": 219,
     "metadata": {},
     "output_type": "execute_result"
    }
   ],
   "source": [
    "grid_search.cv_results_['std_test_score']"
   ]
  },
  {
   "cell_type": "code",
   "execution_count": 225,
   "id": "ef9b0ea1",
   "metadata": {
    "ExecuteTime": {
     "end_time": "2023-03-19T15:40:03.248451Z",
     "start_time": "2023-03-19T15:40:03.122213Z"
    },
    "scrolled": false
   },
   "outputs": [
    {
     "data": {
      "image/png": "[encoded data removed]",
      "text/plain": [
       "<Figure size 432x288 with 1 Axes>"
      ]
     },
     "metadata": {},
     "output_type": "display_data"
    }
   ],
   "source": [
    "\n",
    "plt.errorbar(grid_search.cv_results_['param_bandwidth'].data, grid_search.cv_results_['mean_test_score'], \n",
    "             yerr=grid_search.cv_results_['std_test_score'], fmt='o', capsize=5)\n",
    "plt.xlabel('bandwidth')\n",
    "plt.ylabel('Score')\n",
    "plt.show()"
   ]
  },
  {
   "cell_type": "code",
   "execution_count": 217,
   "id": "2969920a",
   "metadata": {
    "ExecuteTime": {
     "end_time": "2023-03-19T15:35:25.867174Z",
     "start_time": "2023-03-19T15:35:25.863022Z"
    }
   },
   "outputs": [
    {
     "data": {
      "text/plain": [
       "{'bandwidth': 1.0}"
      ]
     },
     "execution_count": 217,
     "metadata": {},
     "output_type": "execute_result"
    }
   ],
   "source": [
    "best_params = grid_search.best_params_\n",
    "best_params"
   ]
  },
  {
   "cell_type": "code",
   "execution_count": 220,
   "id": "0acb16cc",
   "metadata": {
    "ExecuteTime": {
     "end_time": "2023-03-19T15:36:51.975304Z",
     "start_time": "2023-03-19T15:36:51.621333Z"
    }
   },
   "outputs": [
    {
     "data": {
      "image/png": "[encoded data removed]",
      "text/plain": [
       "<Figure size 345.6x288 with 1 Axes>"
      ]
     },
     "metadata": {},
     "output_type": "display_data"
    }
   ],
   "source": [
    "KDE = KernelDensity(bandwidth=0.4)\n",
    "model = KDE.fit(X)\n",
    "\n",
    "x = np.linspace(min(X), max(X), 1000)\n",
    "y = np.exp(model.score_samples(x))\n",
    "\n",
    "plt.figure(figsize=(4*1.2, 4))\n",
    "counts, bins, _  = plt.hist(X, bins=50, density=True)\n",
    "plt.plot(x, y)\n",
    "plt.xlabel('Points')\n",
    "plt.ylabel('Density')\n",
    "plt.show()"
   ]
  },
  {
   "cell_type": "code",
   "execution_count": 125,
   "id": "9d1f3e8c",
   "metadata": {
    "ExecuteTime": {
     "end_time": "2023-03-19T14:48:50.955411Z",
     "start_time": "2023-03-19T14:48:50.951381Z"
    },
    "scrolled": true
   },
   "outputs": [
    {
     "name": "stdout",
     "output_type": "stream",
     "text": [
      "Help on KernelDensity in module sklearn.neighbors._kde object:\n",
      "\n",
      "class KernelDensity(sklearn.base.BaseEstimator)\n",
      " |  KernelDensity(*, bandwidth=1.0, algorithm='auto', kernel='gaussian', metric='euclidean', atol=0, rtol=0, breadth_first=True, leaf_size=40, metric_params=None)\n",
      " |  \n",
      " |  Kernel Density Estimation.\n",
      " |  \n",
      " |  Read more in the :ref:`User Guide <kernel_density>`.\n",
      " |  \n",
      " |  Parameters\n",
      " |  ----------\n",
      " |  bandwidth : float, default=1.0\n",
      " |      The bandwidth of the kernel.\n",
      " |  \n",
      " |  algorithm : {'kd_tree', 'ball_tree', 'auto'}, default='auto'\n",
      " |      The tree algorithm to use.\n",
      " |  \n",
      " |  kernel : {'gaussian', 'tophat', 'epanechnikov', 'exponential', 'linear',                  'cosine'}, default='gaussian'\n",
      " |      The kernel to use.\n",
      " |  \n",
      " |  metric : str, default='euclidean'\n",
      " |      The distance metric to use.  Note that not all metrics are\n",
      " |      valid with all algorithms.  Refer to the documentation of\n",
      " |      :class:`BallTree` and :class:`KDTree` for a description of\n",
      " |      available algorithms.  Note that the normalization of the density\n",
      " |      output is correct only for the Euclidean distance metric. Default\n",
      " |      is 'euclidean'.\n",
      " |  \n",
      " |  atol : float, default=0\n",
      " |      The desired absolute tolerance of the result.  A larger tolerance will\n",
      " |      generally lead to faster execution.\n",
      " |  \n",
      " |  rtol : float, default=0\n",
      " |      The desired relative tolerance of the result.  A larger tolerance will\n",
      " |      generally lead to faster execution.\n",
      " |  \n",
      " |  breadth_first : bool, default=True\n",
      " |      If true (default), use a breadth-first approach to the problem.\n",
      " |      Otherwise use a depth-first approach.\n",
      " |  \n",
      " |  leaf_size : int, default=40\n",
      " |      Specify the leaf size of the underlying tree.  See :class:`BallTree`\n",
      " |      or :class:`KDTree` for details.\n",
      " |  \n",
      " |  metric_params : dict, default=None\n",
      " |      Additional parameters to be passed to the tree for use with the\n",
      " |      metric.  For more information, see the documentation of\n",
      " |      :class:`BallTree` or :class:`KDTree`.\n",
      " |  \n",
      " |  Attributes\n",
      " |  ----------\n",
      " |  n_features_in_ : int\n",
      " |      Number of features seen during :term:`fit`.\n",
      " |  \n",
      " |      .. versionadded:: 0.24\n",
      " |  \n",
      " |  tree_ : ``BinaryTree`` instance\n",
      " |      The tree algorithm for fast generalized N-point problems.\n",
      " |  \n",
      " |  feature_names_in_ : ndarray of shape (`n_features_in_`,)\n",
      " |      Names of features seen during :term:`fit`. Defined only when `X`\n",
      " |      has feature names that are all strings.\n",
      " |  \n",
      " |      .. versionadded:: 1.0\n",
      " |  \n",
      " |  See Also\n",
      " |  --------\n",
      " |  sklearn.neighbors.KDTree : K-dimensional tree for fast generalized N-point\n",
      " |      problems.\n",
      " |  sklearn.neighbors.BallTree : Ball tree for fast generalized N-point\n",
      " |      problems.\n",
      " |  \n",
      " |  Examples\n",
      " |  --------\n",
      " |  Compute a gaussian kernel density estimate with a fixed bandwidth.\n",
      " |  \n",
      " |  >>> from sklearn.neighbors import KernelDensity\n",
      " |  >>> import numpy as np\n",
      " |  >>> rng = np.random.RandomState(42)\n",
      " |  >>> X = rng.random_sample((100, 3))\n",
      " |  >>> kde = KernelDensity(kernel='gaussian', bandwidth=0.5).fit(X)\n",
      " |  >>> log_density = kde.score_samples(X[:3])\n",
      " |  >>> log_density\n",
      " |  array([-1.52955942, -1.51462041, -1.60244657])\n",
      " |  \n",
      " |  Method resolution order:\n",
      " |      KernelDensity\n",
      " |      sklearn.base.BaseEstimator\n",
      " |      builtins.object\n",
      " |  \n",
      " |  Methods defined here:\n",
      " |  \n",
      " |  __init__(self, *, bandwidth=1.0, algorithm='auto', kernel='gaussian', metric='euclidean', atol=0, rtol=0, breadth_first=True, leaf_size=40, metric_params=None)\n",
      " |      Initialize self.  See help(type(self)) for accurate signature.\n",
      " |  \n",
      " |  fit(self, X, y=None, sample_weight=None)\n",
      " |      Fit the Kernel Density model on the data.\n",
      " |      \n",
      " |      Parameters\n",
      " |      ----------\n",
      " |      X : array-like of shape (n_samples, n_features)\n",
      " |          List of n_features-dimensional data points.  Each row\n",
      " |          corresponds to a single data point.\n",
      " |      \n",
      " |      y : None\n",
      " |          Ignored. This parameter exists only for compatibility with\n",
      " |          :class:`~sklearn.pipeline.Pipeline`.\n",
      " |      \n",
      " |      sample_weight : array-like of shape (n_samples,), default=None\n",
      " |          List of sample weights attached to the data X.\n",
      " |      \n",
      " |          .. versionadded:: 0.20\n",
      " |      \n",
      " |      Returns\n",
      " |      -------\n",
      " |      self : object\n",
      " |          Returns the instance itself.\n",
      " |  \n",
      " |  sample(self, n_samples=1, random_state=None)\n",
      " |      Generate random samples from the model.\n",
      " |      \n",
      " |      Currently, this is implemented only for gaussian and tophat kernels.\n",
      " |      \n",
      " |      Parameters\n",
      " |      ----------\n",
      " |      n_samples : int, default=1\n",
      " |          Number of samples to generate.\n",
      " |      \n",
      " |      random_state : int, RandomState instance or None, default=None\n",
      " |          Determines random number generation used to generate\n",
      " |          random samples. Pass an int for reproducible results\n",
      " |          across multiple function calls.\n",
      " |          See :term:`Glossary <random_state>`.\n",
      " |      \n",
      " |      Returns\n",
      " |      -------\n",
      " |      X : array-like of shape (n_samples, n_features)\n",
      " |          List of samples.\n",
      " |  \n",
      " |  score(self, X, y=None)\n",
      " |      Compute the total log-likelihood under the model.\n",
      " |      \n",
      " |      Parameters\n",
      " |      ----------\n",
      " |      X : array-like of shape (n_samples, n_features)\n",
      " |          List of n_features-dimensional data points.  Each row\n",
      " |          corresponds to a single data point.\n",
      " |      \n",
      " |      y : None\n",
      " |          Ignored. This parameter exists only for compatibility with\n",
      " |          :class:`~sklearn.pipeline.Pipeline`.\n",
      " |      \n",
      " |      Returns\n",
      " |      -------\n",
      " |      logprob : float\n",
      " |          Total log-likelihood of the data in X. This is normalized to be a\n",
      " |          probability density, so the value will be low for high-dimensional\n",
      " |          data.\n",
      " |  \n",
      " |  score_samples(self, X)\n",
      " |      Compute the log-likelihood of each sample under the model.\n",
      " |      \n",
      " |      Parameters\n",
      " |      ----------\n",
      " |      X : array-like of shape (n_samples, n_features)\n",
      " |          An array of points to query.  Last dimension should match dimension\n",
      " |          of training data (n_features).\n",
      " |      \n",
      " |      Returns\n",
      " |      -------\n",
      " |      density : ndarray of shape (n_samples,)\n",
      " |          Log-likelihood of each sample in `X`. These are normalized to be\n",
      " |          probability densities, so values will be low for high-dimensional\n",
      " |          data.\n",
      " |  \n",
      " |  ----------------------------------------------------------------------\n",
      " |  Methods inherited from sklearn.base.BaseEstimator:\n",
      " |  \n",
      " |  __getstate__(self)\n",
      " |  \n",
      " |  __repr__(self, N_CHAR_MAX=700)\n",
      " |      Return repr(self).\n",
      " |  \n",
      " |  __setstate__(self, state)\n",
      " |  \n",
      " |  get_params(self, deep=True)\n",
      " |      Get parameters for this estimator.\n",
      " |      \n",
      " |      Parameters\n",
      " |      ----------\n",
      " |      deep : bool, default=True\n",
      " |          If True, will return the parameters for this estimator and\n",
      " |          contained subobjects that are estimators.\n",
      " |      \n",
      " |      Returns\n",
      " |      -------\n",
      " |      params : dict\n",
      " |          Parameter names mapped to their values.\n",
      " |  \n",
      " |  set_params(self, **params)\n",
      " |      Set the parameters of this estimator.\n",
      " |      \n",
      " |      The method works on simple estimators as well as on nested objects\n",
      " |      (such as :class:`~sklearn.pipeline.Pipeline`). The latter have\n",
      " |      parameters of the form ``<component>__<parameter>`` so that it's\n",
      " |      possible to update each component of a nested object.\n",
      " |      \n",
      " |      Parameters\n",
      " |      ----------\n",
      " |      **params : dict\n",
      " |          Estimator parameters.\n",
      " |      \n",
      " |      Returns\n",
      " |      -------\n",
      " |      self : estimator instance\n",
      " |          Estimator instance.\n",
      " |  \n",
      " |  ----------------------------------------------------------------------\n",
      " |  Data descriptors inherited from sklearn.base.BaseEstimator:\n",
      " |  \n",
      " |  __dict__\n",
      " |      dictionary for instance variables (if defined)\n",
      " |  \n",
      " |  __weakref__\n",
      " |      list of weak references to the object (if defined)\n",
      "\n"
     ]
    }
   ],
   "source": [
    "help(KDE)"
   ]
  },
  {
   "cell_type": "code",
   "execution_count": null,
   "id": "1bad94f2",
   "metadata": {},
   "outputs": [],
   "source": []
  }
 ],
 "metadata": {
  "kernelspec": {
   "display_name": "Python 3 (ipykernel)",
   "language": "python",
   "name": "python3"
  },
  "language_info": {
   "codemirror_mode": {
    "name": "ipython",
    "version": 3
   },
   "file_extension": ".py",
   "mimetype": "text/x-python",
   "name": "python",
   "nbconvert_exporter": "python",
   "pygments_lexer": "ipython3",
   "version": "3.8.11"
  },
  "varInspector": {
   "cols": {
    "lenName": 16,
    "lenType": 16,
    "lenVar": 40
   },
   "kernels_config": {
    "python": {
     "delete_cmd_postfix": "",
     "delete_cmd_prefix": "del ",
     "library": "var_list.py",
     "varRefreshCmd": "print(var_dic_list())"
    },
    "r": {
     "delete_cmd_postfix": ") ",
     "delete_cmd_prefix": "rm(",
     "library": "var_list.r",
     "varRefreshCmd": "cat(var_dic_list()) "
    }
   },
   "types_to_exclude": [
    "module",
    "function",
    "builtin_function_or_method",
    "instance",
    "_Feature"
   ],
   "window_display": false
  }
 },
 "nbformat": 4,
 "nbformat_minor": 5
}
